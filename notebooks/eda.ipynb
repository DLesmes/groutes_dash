{
 "cells": [
  {
   "cell_type": "code",
   "execution_count": null,
   "id": "625d2af4-20e6-4fdb-a5e3-4953e2f43756",
   "metadata": {},
   "outputs": [],
   "source": [
    "\"\"\" EDA for the visits data \"\"\"\n",
    "# %%\n",
    "import pandas as pd"
   ]
  },
  {
   "cell_type": "markdown",
   "id": "ce194059-b5cb-4a01-9fa8-e408df1dbd63",
   "metadata": {},
   "source": [
    "# %% [markdown]\n",
    "\n",
    " ## Load data"
   ]
  },
  {
   "cell_type": "code",
   "execution_count": null,
   "id": "6f1539d7-ff4f-46a8-a517-b121ce5acfbb",
   "metadata": {},
   "outputs": [],
   "source": [
    "df_visits = pd.read_csv('../backend/data/99-visitas_uriel.csv')\n",
    "df_business_days = pd.read_csv('../backend/data/resultados_uriel_mazabuel.csv') "
   ]
  },
  {
   "cell_type": "markdown",
   "id": "6a8133a0-d060-42e2-ad02-6bef8e5c9f9f",
   "metadata": {},
   "source": [
    "# %% [markdown]\n",
    "\n",
    " ## visits data"
   ]
  },
  {
   "cell_type": "code",
   "execution_count": null,
   "id": "00262e0a-493a-4504-8b87-ffc04f32898e",
   "metadata": {},
   "outputs": [
    {
     "name": "stdout",
     "output_type": "stream",
     "text": [
      "<class 'pandas.core.frame.DataFrame'>\n",
      "RangeIndex: 367379 entries, 0 to 367378\n",
      "Data columns (total 3 columns):\n",
      " #   Column     Non-Null Count   Dtype \n",
      "---  ------     --------------   ----- \n",
      " 0   timestamp  367379 non-null  object\n",
      " 1   point      367379 non-null  object\n",
      " 2   place      367379 non-null  object\n",
      "dtypes: object(3)\n",
      "memory usage: 8.4+ MB\n"
     ]
    }
   ],
   "source": [
    "df_visits.info()"
   ]
  },
  {
   "cell_type": "code",
   "execution_count": null,
   "id": "d14b51fd-e63b-438c-9823-c67a132b810c",
   "metadata": {},
   "outputs": [
    {
     "name": "stdout",
     "output_type": "stream",
     "text": [
      "<class 'pandas.core.frame.DataFrame'>\n",
      "RangeIndex: 367379 entries, 0 to 367378\n",
      "Data columns (total 5 columns):\n",
      " #   Column     Non-Null Count   Dtype         \n",
      "---  ------     --------------   -----         \n",
      " 0   timestamp  367379 non-null  datetime64[ns]\n",
      " 1   point      367379 non-null  object        \n",
      " 2   place      367379 non-null  object        \n",
      " 3   latitude   367379 non-null  float64       \n",
      " 4   longitude  367379 non-null  float64       \n",
      "dtypes: datetime64[ns](1), float64(2), object(2)\n",
      "memory usage: 14.0+ MB\n"
     ]
    }
   ],
   "source": [
    "# %%\n",
    "\n",
    "df_visits['timestamp'] = pd.to_datetime(df_visits['timestamp']).dt.tz_localize(None)\n",
    "df_visits[['latitude','longitude']] = df_visits['point'].str.split(',', expand=True).astype(float)\n",
    "df_visits.info()"
   ]
  },
  {
   "cell_type": "code",
   "execution_count": null,
   "id": "c7590634-b3bd-4630-85c0-4d558c990e19",
   "metadata": {},
   "outputs": [
    {
     "data": {
      "text/html": [
       "<div>\n",
       "<style scoped>\n",
       "    .dataframe tbody tr th:only-of-type {\n",
       "        vertical-align: middle;\n",
       "    }\n",
       "\n",
       "    .dataframe tbody tr th {\n",
       "        vertical-align: top;\n",
       "    }\n",
       "\n",
       "    .dataframe thead th {\n",
       "        text-align: right;\n",
       "    }\n",
       "</style>\n",
       "<table border=\"1\" class=\"dataframe\">\n",
       "  <thead>\n",
       "    <tr style=\"text-align: right;\">\n",
       "      <th></th>\n",
       "      <th>timestamp</th>\n",
       "      <th>point</th>\n",
       "      <th>place</th>\n",
       "      <th>latitude</th>\n",
       "      <th>longitude</th>\n",
       "    </tr>\n",
       "  </thead>\n",
       "  <tbody>\n",
       "    <tr>\n",
       "      <th>0</th>\n",
       "      <td>2014-06-04 22:24:00</td>\n",
       "      <td>4.753851, -74.1019103</td>\n",
       "      <td>Calle 151, Tibabuyes, UPZs de Bogotá, Localida...</td>\n",
       "      <td>4.753851</td>\n",
       "      <td>-74.101910</td>\n",
       "    </tr>\n",
       "    <tr>\n",
       "      <th>1</th>\n",
       "      <td>2014-06-06 07:37:00</td>\n",
       "      <td>4.7579942, -74.1059858</td>\n",
       "      <td>Carrera 136A, Suba Compartir, UPZs de Bogotá, ...</td>\n",
       "      <td>4.757994</td>\n",
       "      <td>-74.105986</td>\n",
       "    </tr>\n",
       "    <tr>\n",
       "      <th>2</th>\n",
       "      <td>2014-06-06 08:42:00</td>\n",
       "      <td>4.6735214, -74.1452833</td>\n",
       "      <td>Carrera 100, Fontibón, UPZs de Bogotá, Localid...</td>\n",
       "      <td>4.673521</td>\n",
       "      <td>-74.145283</td>\n",
       "    </tr>\n",
       "    <tr>\n",
       "      <th>3</th>\n",
       "      <td>2014-06-06 11:36:00</td>\n",
       "      <td>4.6162576, -74.1061934</td>\n",
       "      <td>Calle 5C, Primavera Occidental, UPZs de Bogotá...</td>\n",
       "      <td>4.616258</td>\n",
       "      <td>-74.106193</td>\n",
       "    </tr>\n",
       "    <tr>\n",
       "      <th>4</th>\n",
       "      <td>2014-06-06 11:37:00</td>\n",
       "      <td>4.613875, -74.104923</td>\n",
       "      <td>Avenida Calle 6, Primavera Occidental, UPZs de...</td>\n",
       "      <td>4.613875</td>\n",
       "      <td>-74.104923</td>\n",
       "    </tr>\n",
       "  </tbody>\n",
       "</table>\n",
       "</div>"
      ],
      "text/plain": [
       "            timestamp                   point  \\\n",
       "0 2014-06-04 22:24:00   4.753851, -74.1019103   \n",
       "1 2014-06-06 07:37:00  4.7579942, -74.1059858   \n",
       "2 2014-06-06 08:42:00  4.6735214, -74.1452833   \n",
       "3 2014-06-06 11:36:00  4.6162576, -74.1061934   \n",
       "4 2014-06-06 11:37:00    4.613875, -74.104923   \n",
       "\n",
       "                                               place  latitude  longitude  \n",
       "0  Calle 151, Tibabuyes, UPZs de Bogotá, Localida...  4.753851 -74.101910  \n",
       "1  Carrera 136A, Suba Compartir, UPZs de Bogotá, ...  4.757994 -74.105986  \n",
       "2  Carrera 100, Fontibón, UPZs de Bogotá, Localid...  4.673521 -74.145283  \n",
       "3  Calle 5C, Primavera Occidental, UPZs de Bogotá...  4.616258 -74.106193  \n",
       "4  Avenida Calle 6, Primavera Occidental, UPZs de...  4.613875 -74.104923  "
      ]
     },
     "execution_count": 60,
     "metadata": {},
     "output_type": "execute_result"
    }
   ],
   "source": [
    "# %%\n",
    "\n",
    "df_visits.head()"
   ]
  },
  {
   "cell_type": "code",
   "execution_count": null,
   "id": "ded6eb70-7611-45b1-855e-50f0aa7b5d1d",
   "metadata": {},
   "outputs": [
    {
     "data": {
      "text/html": [
       "<div>\n",
       "<style scoped>\n",
       "    .dataframe tbody tr th:only-of-type {\n",
       "        vertical-align: middle;\n",
       "    }\n",
       "\n",
       "    .dataframe tbody tr th {\n",
       "        vertical-align: top;\n",
       "    }\n",
       "\n",
       "    .dataframe thead th {\n",
       "        text-align: right;\n",
       "    }\n",
       "</style>\n",
       "<table border=\"1\" class=\"dataframe\">\n",
       "  <thead>\n",
       "    <tr style=\"text-align: right;\">\n",
       "      <th></th>\n",
       "      <th>count</th>\n",
       "      <th>mean</th>\n",
       "      <th>min</th>\n",
       "      <th>25%</th>\n",
       "      <th>50%</th>\n",
       "      <th>75%</th>\n",
       "      <th>max</th>\n",
       "      <th>std</th>\n",
       "    </tr>\n",
       "  </thead>\n",
       "  <tbody>\n",
       "    <tr>\n",
       "      <th>timestamp</th>\n",
       "      <td>367379</td>\n",
       "      <td>2021-02-25 03:11:49.806276352</td>\n",
       "      <td>2014-06-04 22:24:00</td>\n",
       "      <td>2019-03-07 18:32:00</td>\n",
       "      <td>2021-11-11 19:51:00</td>\n",
       "      <td>2023-02-21 12:21:30</td>\n",
       "      <td>2025-01-07 11:33:00</td>\n",
       "      <td>NaN</td>\n",
       "    </tr>\n",
       "    <tr>\n",
       "      <th>latitude</th>\n",
       "      <td>367379.0</td>\n",
       "      <td>5.268799</td>\n",
       "      <td>0.799459</td>\n",
       "      <td>4.627612</td>\n",
       "      <td>4.80056</td>\n",
       "      <td>5.521675</td>\n",
       "      <td>22.187282</td>\n",
       "      <td>1.611471</td>\n",
       "    </tr>\n",
       "    <tr>\n",
       "      <th>longitude</th>\n",
       "      <td>367379.0</td>\n",
       "      <td>-74.280175</td>\n",
       "      <td>-81.732719</td>\n",
       "      <td>-74.539188</td>\n",
       "      <td>-74.099587</td>\n",
       "      <td>-73.946177</td>\n",
       "      <td>113.554035</td>\n",
       "      <td>0.875201</td>\n",
       "    </tr>\n",
       "  </tbody>\n",
       "</table>\n",
       "</div>"
      ],
      "text/plain": [
       "              count                           mean                  min  \\\n",
       "timestamp    367379  2021-02-25 03:11:49.806276352  2014-06-04 22:24:00   \n",
       "latitude   367379.0                       5.268799             0.799459   \n",
       "longitude  367379.0                     -74.280175           -81.732719   \n",
       "\n",
       "                           25%                  50%                  75%  \\\n",
       "timestamp  2019-03-07 18:32:00  2021-11-11 19:51:00  2023-02-21 12:21:30   \n",
       "latitude              4.627612              4.80056             5.521675   \n",
       "longitude           -74.539188           -74.099587           -73.946177   \n",
       "\n",
       "                           max       std  \n",
       "timestamp  2025-01-07 11:33:00       NaN  \n",
       "latitude             22.187282  1.611471  \n",
       "longitude           113.554035  0.875201  "
      ]
     },
     "execution_count": 61,
     "metadata": {},
     "output_type": "execute_result"
    }
   ],
   "source": [
    "# %%\n",
    "\n",
    "df_visits.describe().T"
   ]
  },
  {
   "cell_type": "code",
   "execution_count": null,
   "id": "cb1a70e3-d7b4-4b20-8f52-741932a41a93",
   "metadata": {},
   "outputs": [
    {
     "data": {
      "text/plain": [
       "['point', 'place']"
      ]
     },
     "execution_count": 62,
     "metadata": {},
     "output_type": "execute_result"
    }
   ],
   "source": [
    "# %%\n",
    "\n",
    "df_types_visits = pd.DataFrame(df_visits.dtypes)\n",
    "object_features_visits = df_types_visits[df_types_visits[0] == 'object'].index.to_list()\n",
    "object_features_visits"
   ]
  },
  {
   "cell_type": "code",
   "execution_count": null,
   "id": "4bf23dc7-63b9-493f-8765-9d7b6e0ce3dd",
   "metadata": {},
   "outputs": [
    {
     "data": {
      "text/plain": [
       "['latitude', 'longitude']"
      ]
     },
     "execution_count": 63,
     "metadata": {},
     "output_type": "execute_result"
    }
   ],
   "source": [
    "# %%\n",
    "\n",
    "float_features_visits = df_types_visits[df_types_visits[0] == 'float64'].index.to_list()\n",
    "float_features_visits"
   ]
  },
  {
   "cell_type": "code",
   "execution_count": null,
   "id": "30502a04-e237-4d1c-8762-121f16129ff3",
   "metadata": {},
   "outputs": [
    {
     "data": {
      "text/plain": [
       "['timestamp']"
      ]
     },
     "execution_count": 64,
     "metadata": {},
     "output_type": "execute_result"
    }
   ],
   "source": [
    "# %%\n",
    "\n",
    "date_features_visits = df_types_visits[df_types_visits[0] == 'datetime64[ns]'].index.to_list()\n",
    "date_features_visits"
   ]
  },
  {
   "cell_type": "code",
   "execution_count": null,
   "id": "81fce6c7-7b04-4db0-9650-7de0bfeb803b",
   "metadata": {},
   "outputs": [
    {
     "data": {
      "text/html": [
       "<div>\n",
       "<style scoped>\n",
       "    .dataframe tbody tr th:only-of-type {\n",
       "        vertical-align: middle;\n",
       "    }\n",
       "\n",
       "    .dataframe tbody tr th {\n",
       "        vertical-align: top;\n",
       "    }\n",
       "\n",
       "    .dataframe thead th {\n",
       "        text-align: right;\n",
       "    }\n",
       "</style>\n",
       "<table border=\"1\" class=\"dataframe\">\n",
       "  <thead>\n",
       "    <tr style=\"text-align: right;\">\n",
       "      <th></th>\n",
       "      <th>count</th>\n",
       "      <th>unique</th>\n",
       "      <th>top</th>\n",
       "      <th>freq</th>\n",
       "    </tr>\n",
       "  </thead>\n",
       "  <tbody>\n",
       "    <tr>\n",
       "      <th>point</th>\n",
       "      <td>367379</td>\n",
       "      <td>314776</td>\n",
       "      <td>4.7532264, -74.0988525</td>\n",
       "      <td>326</td>\n",
       "    </tr>\n",
       "    <tr>\n",
       "      <th>place</th>\n",
       "      <td>367379</td>\n",
       "      <td>20538</td>\n",
       "      <td>Autopista Norte, Tocancipá, Sabana Centro, RAP...</td>\n",
       "      <td>16438</td>\n",
       "    </tr>\n",
       "  </tbody>\n",
       "</table>\n",
       "</div>"
      ],
      "text/plain": [
       "        count  unique                                                top  \\\n",
       "point  367379  314776                             4.7532264, -74.0988525   \n",
       "place  367379   20538  Autopista Norte, Tocancipá, Sabana Centro, RAP...   \n",
       "\n",
       "        freq  \n",
       "point    326  \n",
       "place  16438  "
      ]
     },
     "execution_count": 65,
     "metadata": {},
     "output_type": "execute_result"
    }
   ],
   "source": [
    "# %%\n",
    "\n",
    "df_visits[object_features_visits].describe(include='all').T"
   ]
  },
  {
   "cell_type": "markdown",
   "id": "b319e654-39df-4a52-aa85-ff3c233487a2",
   "metadata": {},
   "source": [
    "# %% [markdown]\n",
    "\n",
    " ## business days data"
   ]
  },
  {
   "cell_type": "code",
   "execution_count": null,
   "id": "474c930a-7d9c-420a-8ab6-63849398a2a4",
   "metadata": {},
   "outputs": [
    {
     "name": "stdout",
     "output_type": "stream",
     "text": [
      "<class 'pandas.core.frame.DataFrame'>\n",
      "RangeIndex: 894 entries, 0 to 893\n",
      "Data columns (total 4 columns):\n",
      " #   Column     Non-Null Count  Dtype \n",
      "---  ------     --------------  ----- \n",
      " 0   fecha      894 non-null    object\n",
      " 1   inicio     894 non-null    object\n",
      " 2   fin        894 non-null    object\n",
      " 3   recorrido  894 non-null    object\n",
      "dtypes: object(4)\n",
      "memory usage: 28.1+ KB\n"
     ]
    }
   ],
   "source": [
    "df_business_days.info()"
   ]
  },
  {
   "cell_type": "code",
   "execution_count": null,
   "id": "a86ea025-8e97-4c61-b99a-4be0e4f7f45e",
   "metadata": {},
   "outputs": [],
   "source": [
    "# %%\n",
    "\n",
    "df_business_days['fecha'] = pd.to_datetime(df_business_days['fecha'])\n",
    "df_business_days['inicio'] = pd.to_datetime(df_business_days['inicio'])\n",
    "df_business_days['fin'] = pd.to_datetime(df_business_days['fin'])"
   ]
  },
  {
   "cell_type": "code",
   "execution_count": null,
   "id": "61f1c59b-21d8-4f55-a51b-ac37759e480c",
   "metadata": {},
   "outputs": [
    {
     "name": "stdout",
     "output_type": "stream",
     "text": [
      "<class 'pandas.core.frame.DataFrame'>\n",
      "RangeIndex: 894 entries, 0 to 893\n",
      "Data columns (total 4 columns):\n",
      " #   Column     Non-Null Count  Dtype         \n",
      "---  ------     --------------  -----         \n",
      " 0   fecha      894 non-null    datetime64[ns]\n",
      " 1   inicio     894 non-null    datetime64[ns]\n",
      " 2   fin        894 non-null    datetime64[ns]\n",
      " 3   recorrido  894 non-null    object        \n",
      "dtypes: datetime64[ns](3), object(1)\n",
      "memory usage: 28.1+ KB\n"
     ]
    }
   ],
   "source": [
    "# %%\n",
    "\n",
    "df_business_days.info()"
   ]
  },
  {
   "cell_type": "code",
   "execution_count": null,
   "id": "06bd55f0-4355-4002-ad8e-03e241aee6c9",
   "metadata": {},
   "outputs": [
    {
     "data": {
      "text/html": [
       "<div>\n",
       "<style scoped>\n",
       "    .dataframe tbody tr th:only-of-type {\n",
       "        vertical-align: middle;\n",
       "    }\n",
       "\n",
       "    .dataframe tbody tr th {\n",
       "        vertical-align: top;\n",
       "    }\n",
       "\n",
       "    .dataframe thead th {\n",
       "        text-align: right;\n",
       "    }\n",
       "</style>\n",
       "<table border=\"1\" class=\"dataframe\">\n",
       "  <thead>\n",
       "    <tr style=\"text-align: right;\">\n",
       "      <th></th>\n",
       "      <th>fecha</th>\n",
       "      <th>inicio</th>\n",
       "      <th>fin</th>\n",
       "      <th>recorrido</th>\n",
       "    </tr>\n",
       "  </thead>\n",
       "  <tbody>\n",
       "    <tr>\n",
       "      <th>0</th>\n",
       "      <td>2014-06-11</td>\n",
       "      <td>2014-06-11 21:16:00</td>\n",
       "      <td>2014-06-11 21:16:00</td>\n",
       "      <td>0 days 00:00:00</td>\n",
       "    </tr>\n",
       "    <tr>\n",
       "      <th>1</th>\n",
       "      <td>2014-06-14</td>\n",
       "      <td>2014-06-14 17:36:00</td>\n",
       "      <td>2014-06-14 18:34:00</td>\n",
       "      <td>0 days 00:58:00</td>\n",
       "    </tr>\n",
       "    <tr>\n",
       "      <th>2</th>\n",
       "      <td>2014-06-18</td>\n",
       "      <td>2014-06-18 00:51:00</td>\n",
       "      <td>2014-06-18 22:21:00</td>\n",
       "      <td>0 days 21:30:00</td>\n",
       "    </tr>\n",
       "    <tr>\n",
       "      <th>3</th>\n",
       "      <td>2014-06-25</td>\n",
       "      <td>2014-06-25 05:34:00</td>\n",
       "      <td>2014-06-25 20:26:00</td>\n",
       "      <td>0 days 14:52:00</td>\n",
       "    </tr>\n",
       "    <tr>\n",
       "      <th>4</th>\n",
       "      <td>2014-07-02</td>\n",
       "      <td>2014-07-02 22:35:00</td>\n",
       "      <td>2014-07-02 22:35:00</td>\n",
       "      <td>0 days 00:00:00</td>\n",
       "    </tr>\n",
       "  </tbody>\n",
       "</table>\n",
       "</div>"
      ],
      "text/plain": [
       "       fecha              inicio                 fin        recorrido\n",
       "0 2014-06-11 2014-06-11 21:16:00 2014-06-11 21:16:00  0 days 00:00:00\n",
       "1 2014-06-14 2014-06-14 17:36:00 2014-06-14 18:34:00  0 days 00:58:00\n",
       "2 2014-06-18 2014-06-18 00:51:00 2014-06-18 22:21:00  0 days 21:30:00\n",
       "3 2014-06-25 2014-06-25 05:34:00 2014-06-25 20:26:00  0 days 14:52:00\n",
       "4 2014-07-02 2014-07-02 22:35:00 2014-07-02 22:35:00  0 days 00:00:00"
      ]
     },
     "execution_count": 69,
     "metadata": {},
     "output_type": "execute_result"
    }
   ],
   "source": [
    "# %%\n",
    "\n",
    "df_business_days.head()"
   ]
  },
  {
   "cell_type": "code",
   "execution_count": null,
   "id": "956ba87b-1abb-4a25-a26f-40592c7017a7",
   "metadata": {},
   "outputs": [
    {
     "data": {
      "text/html": [
       "<div>\n",
       "<style scoped>\n",
       "    .dataframe tbody tr th:only-of-type {\n",
       "        vertical-align: middle;\n",
       "    }\n",
       "\n",
       "    .dataframe tbody tr th {\n",
       "        vertical-align: top;\n",
       "    }\n",
       "\n",
       "    .dataframe thead th {\n",
       "        text-align: right;\n",
       "    }\n",
       "</style>\n",
       "<table border=\"1\" class=\"dataframe\">\n",
       "  <thead>\n",
       "    <tr style=\"text-align: right;\">\n",
       "      <th></th>\n",
       "      <th>count</th>\n",
       "      <th>mean</th>\n",
       "      <th>min</th>\n",
       "      <th>25%</th>\n",
       "      <th>50%</th>\n",
       "      <th>75%</th>\n",
       "      <th>max</th>\n",
       "    </tr>\n",
       "  </thead>\n",
       "  <tbody>\n",
       "    <tr>\n",
       "      <th>fecha</th>\n",
       "      <td>894</td>\n",
       "      <td>2019-01-19 15:16:30.604026880</td>\n",
       "      <td>2014-06-11 00:00:00</td>\n",
       "      <td>2016-09-14 06:00:00</td>\n",
       "      <td>2018-07-27 00:00:00</td>\n",
       "      <td>2021-07-14 00:00:00</td>\n",
       "      <td>2024-03-26 00:00:00</td>\n",
       "    </tr>\n",
       "    <tr>\n",
       "      <th>inicio</th>\n",
       "      <td>894</td>\n",
       "      <td>2019-01-19 20:58:58.389261824</td>\n",
       "      <td>2014-06-11 21:16:00</td>\n",
       "      <td>2016-09-14 06:06:15</td>\n",
       "      <td>2018-07-27 02:35:30</td>\n",
       "      <td>2021-07-14 02:30:30</td>\n",
       "      <td>2024-03-26 00:43:00</td>\n",
       "    </tr>\n",
       "    <tr>\n",
       "      <th>fin</th>\n",
       "      <td>894</td>\n",
       "      <td>2019-01-20 12:24:45.906040320</td>\n",
       "      <td>2014-06-11 21:16:00</td>\n",
       "      <td>2016-09-15 05:21:00</td>\n",
       "      <td>2018-07-27 20:57:30</td>\n",
       "      <td>2021-07-14 23:53:15</td>\n",
       "      <td>2024-03-26 22:57:00</td>\n",
       "    </tr>\n",
       "  </tbody>\n",
       "</table>\n",
       "</div>"
      ],
      "text/plain": [
       "       count                           mean                  min  \\\n",
       "fecha    894  2019-01-19 15:16:30.604026880  2014-06-11 00:00:00   \n",
       "inicio   894  2019-01-19 20:58:58.389261824  2014-06-11 21:16:00   \n",
       "fin      894  2019-01-20 12:24:45.906040320  2014-06-11 21:16:00   \n",
       "\n",
       "                        25%                  50%                  75%  \\\n",
       "fecha   2016-09-14 06:00:00  2018-07-27 00:00:00  2021-07-14 00:00:00   \n",
       "inicio  2016-09-14 06:06:15  2018-07-27 02:35:30  2021-07-14 02:30:30   \n",
       "fin     2016-09-15 05:21:00  2018-07-27 20:57:30  2021-07-14 23:53:15   \n",
       "\n",
       "                        max  \n",
       "fecha   2024-03-26 00:00:00  \n",
       "inicio  2024-03-26 00:43:00  \n",
       "fin     2024-03-26 22:57:00  "
      ]
     },
     "execution_count": 70,
     "metadata": {},
     "output_type": "execute_result"
    }
   ],
   "source": [
    "# %%\n",
    "\n",
    "df_business_days.describe().T"
   ]
  },
  {
   "cell_type": "code",
   "execution_count": null,
   "id": "5e60d01f-87ce-41d4-b5d5-581c696108b5",
   "metadata": {},
   "outputs": [
    {
     "data": {
      "text/plain": [
       "['recorrido']"
      ]
     },
     "execution_count": 71,
     "metadata": {},
     "output_type": "execute_result"
    }
   ],
   "source": [
    "# %%\n",
    "\n",
    "df_types_business_days = pd.DataFrame(df_business_days.dtypes)\n",
    "object_features_business_days = df_types_business_days[df_types_business_days[0] == 'object'].index.to_list()\n",
    "object_features_business_days"
   ]
  },
  {
   "cell_type": "code",
   "execution_count": null,
   "id": "9d8d9d1e-4da1-4e69-9c8e-866e68c379b8",
   "metadata": {},
   "outputs": [
    {
     "data": {
      "text/html": [
       "<div>\n",
       "<style scoped>\n",
       "    .dataframe tbody tr th:only-of-type {\n",
       "        vertical-align: middle;\n",
       "    }\n",
       "\n",
       "    .dataframe tbody tr th {\n",
       "        vertical-align: top;\n",
       "    }\n",
       "\n",
       "    .dataframe thead th {\n",
       "        text-align: right;\n",
       "    }\n",
       "</style>\n",
       "<table border=\"1\" class=\"dataframe\">\n",
       "  <thead>\n",
       "    <tr style=\"text-align: right;\">\n",
       "      <th></th>\n",
       "      <th>count</th>\n",
       "      <th>unique</th>\n",
       "      <th>top</th>\n",
       "      <th>freq</th>\n",
       "    </tr>\n",
       "  </thead>\n",
       "  <tbody>\n",
       "    <tr>\n",
       "      <th>recorrido</th>\n",
       "      <td>894</td>\n",
       "      <td>596</td>\n",
       "      <td>0 days 00:00:00</td>\n",
       "      <td>16</td>\n",
       "    </tr>\n",
       "  </tbody>\n",
       "</table>\n",
       "</div>"
      ],
      "text/plain": [
       "          count unique              top freq\n",
       "recorrido   894    596  0 days 00:00:00   16"
      ]
     },
     "execution_count": 72,
     "metadata": {},
     "output_type": "execute_result"
    }
   ],
   "source": [
    "# %%\n",
    "\n",
    "df_business_days[object_features_business_days].describe(include='all').T"
   ]
  },
  {
   "cell_type": "markdown",
   "id": "e2b0a53c-3baa-46c6-b0a7-2aafda638c2b",
   "metadata": {},
   "source": [
    "# %% [markdown]\n",
    "\n",
    " ## Merge visits with business days"
   ]
  },
  {
   "cell_type": "code",
   "execution_count": null,
   "id": "e2f95201-6c45-4310-bf61-942104b4a7fb",
   "metadata": {},
   "outputs": [],
   "source": [
    "df_visits_business_days = df_visits.merge(df_business_days, how='right', left_on='timestamp', right_on='inicio')"
   ]
  },
  {
   "cell_type": "code",
   "execution_count": null,
   "id": "9c378687-b5fa-4b49-85db-613414a94af2",
   "metadata": {},
   "outputs": [
    {
     "data": {
      "text/html": [
       "<div>\n",
       "<style scoped>\n",
       "    .dataframe tbody tr th:only-of-type {\n",
       "        vertical-align: middle;\n",
       "    }\n",
       "\n",
       "    .dataframe tbody tr th {\n",
       "        vertical-align: top;\n",
       "    }\n",
       "\n",
       "    .dataframe thead th {\n",
       "        text-align: right;\n",
       "    }\n",
       "</style>\n",
       "<table border=\"1\" class=\"dataframe\">\n",
       "  <thead>\n",
       "    <tr style=\"text-align: right;\">\n",
       "      <th></th>\n",
       "      <th>timestamp</th>\n",
       "      <th>point</th>\n",
       "      <th>place</th>\n",
       "      <th>latitude</th>\n",
       "      <th>longitude</th>\n",
       "      <th>fecha</th>\n",
       "      <th>inicio</th>\n",
       "      <th>fin</th>\n",
       "      <th>recorrido</th>\n",
       "    </tr>\n",
       "  </thead>\n",
       "  <tbody>\n",
       "    <tr>\n",
       "      <th>0</th>\n",
       "      <td>2014-06-11 21:16:00</td>\n",
       "      <td>4.7538459, -74.1018654</td>\n",
       "      <td>Calle 151, Tibabuyes, UPZs de Bogotá, Localida...</td>\n",
       "      <td>4.753846</td>\n",
       "      <td>-74.101865</td>\n",
       "      <td>2014-06-11</td>\n",
       "      <td>2014-06-11 21:16:00</td>\n",
       "      <td>2014-06-11 21:16:00</td>\n",
       "      <td>0 days 00:00:00</td>\n",
       "    </tr>\n",
       "    <tr>\n",
       "      <th>1</th>\n",
       "      <td>2014-06-14 17:36:00</td>\n",
       "      <td>4.7528523, -74.0988562</td>\n",
       "      <td>Calle 151, Tibabuyes, UPZs de Bogotá, Localida...</td>\n",
       "      <td>4.752852</td>\n",
       "      <td>-74.098856</td>\n",
       "      <td>2014-06-14</td>\n",
       "      <td>2014-06-14 17:36:00</td>\n",
       "      <td>2014-06-14 18:34:00</td>\n",
       "      <td>0 days 00:58:00</td>\n",
       "    </tr>\n",
       "    <tr>\n",
       "      <th>2</th>\n",
       "      <td>2014-06-18 00:51:00</td>\n",
       "      <td>4.7538915, -74.1018722</td>\n",
       "      <td>Calle 151, Tibabuyes, UPZs de Bogotá, Localida...</td>\n",
       "      <td>4.753891</td>\n",
       "      <td>-74.101872</td>\n",
       "      <td>2014-06-18</td>\n",
       "      <td>2014-06-18 00:51:00</td>\n",
       "      <td>2014-06-18 22:21:00</td>\n",
       "      <td>0 days 21:30:00</td>\n",
       "    </tr>\n",
       "    <tr>\n",
       "      <th>3</th>\n",
       "      <td>2014-06-25 05:34:00</td>\n",
       "      <td>4.7539288, -74.1025566</td>\n",
       "      <td>Carrera 115, Almendros, UPZs de Bogotá, Locali...</td>\n",
       "      <td>4.753929</td>\n",
       "      <td>-74.102557</td>\n",
       "      <td>2014-06-25</td>\n",
       "      <td>2014-06-25 05:34:00</td>\n",
       "      <td>2014-06-25 20:26:00</td>\n",
       "      <td>0 days 14:52:00</td>\n",
       "    </tr>\n",
       "    <tr>\n",
       "      <th>4</th>\n",
       "      <td>2014-07-02 22:35:00</td>\n",
       "      <td>4.7539656, -74.1018835</td>\n",
       "      <td>Calle 151, Tibabuyes, UPZs de Bogotá, Localida...</td>\n",
       "      <td>4.753966</td>\n",
       "      <td>-74.101883</td>\n",
       "      <td>2014-07-02</td>\n",
       "      <td>2014-07-02 22:35:00</td>\n",
       "      <td>2014-07-02 22:35:00</td>\n",
       "      <td>0 days 00:00:00</td>\n",
       "    </tr>\n",
       "    <tr>\n",
       "      <th>...</th>\n",
       "      <td>...</td>\n",
       "      <td>...</td>\n",
       "      <td>...</td>\n",
       "      <td>...</td>\n",
       "      <td>...</td>\n",
       "      <td>...</td>\n",
       "      <td>...</td>\n",
       "      <td>...</td>\n",
       "      <td>...</td>\n",
       "    </tr>\n",
       "    <tr>\n",
       "      <th>1000</th>\n",
       "      <td>2024-03-14 10:28:00</td>\n",
       "      <td>4.7541006, -74.1027117</td>\n",
       "      <td>Calle 150C, Almendros, UPZs de Bogotá, Localid...</td>\n",
       "      <td>4.754101</td>\n",
       "      <td>-74.102712</td>\n",
       "      <td>2024-03-14</td>\n",
       "      <td>2024-03-14 10:28:00</td>\n",
       "      <td>2024-03-14 23:46:00</td>\n",
       "      <td>0 days 13:18:00</td>\n",
       "    </tr>\n",
       "    <tr>\n",
       "      <th>1001</th>\n",
       "      <td>2024-03-17 11:35:00</td>\n",
       "      <td>6.0162505, -75.1580961</td>\n",
       "      <td>Autopista Medellín - Bogotá, La Piñuela, Cocor...</td>\n",
       "      <td>6.016250</td>\n",
       "      <td>-75.158096</td>\n",
       "      <td>2024-03-17</td>\n",
       "      <td>2024-03-17 11:35:00</td>\n",
       "      <td>2024-03-17 19:43:00</td>\n",
       "      <td>0 days 08:08:00</td>\n",
       "    </tr>\n",
       "    <tr>\n",
       "      <th>1002</th>\n",
       "      <td>2024-03-20 10:20:00</td>\n",
       "      <td>7.1610454, -73.1373577</td>\n",
       "      <td>Madrid, Comuna 1 - Norte, Perímetro Urbano Buc...</td>\n",
       "      <td>7.161045</td>\n",
       "      <td>-73.137358</td>\n",
       "      <td>2024-03-20</td>\n",
       "      <td>2024-03-20 10:20:00</td>\n",
       "      <td>2024-03-20 18:35:00</td>\n",
       "      <td>0 days 08:15:00</td>\n",
       "    </tr>\n",
       "    <tr>\n",
       "      <th>1003</th>\n",
       "      <td>2024-03-23 00:57:00</td>\n",
       "      <td>4.9498285, -73.9469491</td>\n",
       "      <td>Autopista Norte, Tocancipá, Sabana Centro, RAP...</td>\n",
       "      <td>4.949828</td>\n",
       "      <td>-73.946949</td>\n",
       "      <td>2024-03-23</td>\n",
       "      <td>2024-03-23 00:57:00</td>\n",
       "      <td>2024-03-23 15:00:00</td>\n",
       "      <td>0 days 14:03:00</td>\n",
       "    </tr>\n",
       "    <tr>\n",
       "      <th>1004</th>\n",
       "      <td>2024-03-26 00:43:00</td>\n",
       "      <td>4.7037785, -74.0540271</td>\n",
       "      <td>Avenida Carrera 45, UPZs de Bogotá, Localidad ...</td>\n",
       "      <td>4.703779</td>\n",
       "      <td>-74.054027</td>\n",
       "      <td>2024-03-26</td>\n",
       "      <td>2024-03-26 00:43:00</td>\n",
       "      <td>2024-03-26 22:57:00</td>\n",
       "      <td>0 days 22:14:00</td>\n",
       "    </tr>\n",
       "  </tbody>\n",
       "</table>\n",
       "<p>1005 rows × 9 columns</p>\n",
       "</div>"
      ],
      "text/plain": [
       "               timestamp                   point  \\\n",
       "0    2014-06-11 21:16:00  4.7538459, -74.1018654   \n",
       "1    2014-06-14 17:36:00  4.7528523, -74.0988562   \n",
       "2    2014-06-18 00:51:00  4.7538915, -74.1018722   \n",
       "3    2014-06-25 05:34:00  4.7539288, -74.1025566   \n",
       "4    2014-07-02 22:35:00  4.7539656, -74.1018835   \n",
       "...                  ...                     ...   \n",
       "1000 2024-03-14 10:28:00  4.7541006, -74.1027117   \n",
       "1001 2024-03-17 11:35:00  6.0162505, -75.1580961   \n",
       "1002 2024-03-20 10:20:00  7.1610454, -73.1373577   \n",
       "1003 2024-03-23 00:57:00  4.9498285, -73.9469491   \n",
       "1004 2024-03-26 00:43:00  4.7037785, -74.0540271   \n",
       "\n",
       "                                                  place  latitude  longitude  \\\n",
       "0     Calle 151, Tibabuyes, UPZs de Bogotá, Localida...  4.753846 -74.101865   \n",
       "1     Calle 151, Tibabuyes, UPZs de Bogotá, Localida...  4.752852 -74.098856   \n",
       "2     Calle 151, Tibabuyes, UPZs de Bogotá, Localida...  4.753891 -74.101872   \n",
       "3     Carrera 115, Almendros, UPZs de Bogotá, Locali...  4.753929 -74.102557   \n",
       "4     Calle 151, Tibabuyes, UPZs de Bogotá, Localida...  4.753966 -74.101883   \n",
       "...                                                 ...       ...        ...   \n",
       "1000  Calle 150C, Almendros, UPZs de Bogotá, Localid...  4.754101 -74.102712   \n",
       "1001  Autopista Medellín - Bogotá, La Piñuela, Cocor...  6.016250 -75.158096   \n",
       "1002  Madrid, Comuna 1 - Norte, Perímetro Urbano Buc...  7.161045 -73.137358   \n",
       "1003  Autopista Norte, Tocancipá, Sabana Centro, RAP...  4.949828 -73.946949   \n",
       "1004  Avenida Carrera 45, UPZs de Bogotá, Localidad ...  4.703779 -74.054027   \n",
       "\n",
       "          fecha              inicio                 fin        recorrido  \n",
       "0    2014-06-11 2014-06-11 21:16:00 2014-06-11 21:16:00  0 days 00:00:00  \n",
       "1    2014-06-14 2014-06-14 17:36:00 2014-06-14 18:34:00  0 days 00:58:00  \n",
       "2    2014-06-18 2014-06-18 00:51:00 2014-06-18 22:21:00  0 days 21:30:00  \n",
       "3    2014-06-25 2014-06-25 05:34:00 2014-06-25 20:26:00  0 days 14:52:00  \n",
       "4    2014-07-02 2014-07-02 22:35:00 2014-07-02 22:35:00  0 days 00:00:00  \n",
       "...         ...                 ...                 ...              ...  \n",
       "1000 2024-03-14 2024-03-14 10:28:00 2024-03-14 23:46:00  0 days 13:18:00  \n",
       "1001 2024-03-17 2024-03-17 11:35:00 2024-03-17 19:43:00  0 days 08:08:00  \n",
       "1002 2024-03-20 2024-03-20 10:20:00 2024-03-20 18:35:00  0 days 08:15:00  \n",
       "1003 2024-03-23 2024-03-23 00:57:00 2024-03-23 15:00:00  0 days 14:03:00  \n",
       "1004 2024-03-26 2024-03-26 00:43:00 2024-03-26 22:57:00  0 days 22:14:00  \n",
       "\n",
       "[1005 rows x 9 columns]"
      ]
     },
     "execution_count": 74,
     "metadata": {},
     "output_type": "execute_result"
    }
   ],
   "source": [
    "# %%\n",
    "\n",
    "df_visits_business_days"
   ]
  },
  {
   "cell_type": "markdown",
   "id": "4e2f5552-06d1-409c-82aa-57d1199a50ad",
   "metadata": {},
   "source": [
    "# %% [markdown]\n",
    "\n",
    " ## visits with business days data"
   ]
  },
  {
   "cell_type": "code",
   "execution_count": null,
   "id": "1c637159-95f3-4a6a-a0a9-4430332c182b",
   "metadata": {},
   "outputs": [
    {
     "name": "stdout",
     "output_type": "stream",
     "text": [
      "<class 'pandas.core.frame.DataFrame'>\n",
      "RangeIndex: 1005 entries, 0 to 1004\n",
      "Data columns (total 9 columns):\n",
      " #   Column     Non-Null Count  Dtype         \n",
      "---  ------     --------------  -----         \n",
      " 0   timestamp  1005 non-null   datetime64[ns]\n",
      " 1   point      1005 non-null   object        \n",
      " 2   place      1005 non-null   object        \n",
      " 3   latitude   1005 non-null   float64       \n",
      " 4   longitude  1005 non-null   float64       \n",
      " 5   fecha      1005 non-null   datetime64[ns]\n",
      " 6   inicio     1005 non-null   datetime64[ns]\n",
      " 7   fin        1005 non-null   datetime64[ns]\n",
      " 8   recorrido  1005 non-null   object        \n",
      "dtypes: datetime64[ns](4), float64(2), object(3)\n",
      "memory usage: 70.8+ KB\n"
     ]
    }
   ],
   "source": [
    "df_visits_business_days.info()"
   ]
  },
  {
   "cell_type": "markdown",
   "id": "bab5e4c3-553a-4b6c-b621-3c922e19db95",
   "metadata": {},
   "source": [
    "# %% [markdown]\n",
    "\n",
    " ## droping duplicates on visits with business days data"
   ]
  },
  {
   "cell_type": "code",
   "execution_count": null,
   "id": "4b70abbc-4465-4f92-b697-8134d006646f",
   "metadata": {},
   "outputs": [
    {
     "name": "stdout",
     "output_type": "stream",
     "text": [
      "<class 'pandas.core.frame.DataFrame'>\n",
      "Index: 894 entries, 0 to 1004\n",
      "Data columns (total 9 columns):\n",
      " #   Column     Non-Null Count  Dtype         \n",
      "---  ------     --------------  -----         \n",
      " 0   timestamp  894 non-null    datetime64[ns]\n",
      " 1   point      894 non-null    object        \n",
      " 2   place      894 non-null    object        \n",
      " 3   latitude   894 non-null    float64       \n",
      " 4   longitude  894 non-null    float64       \n",
      " 5   fecha      894 non-null    datetime64[ns]\n",
      " 6   inicio     894 non-null    datetime64[ns]\n",
      " 7   fin        894 non-null    datetime64[ns]\n",
      " 8   recorrido  894 non-null    object        \n",
      "dtypes: datetime64[ns](4), float64(2), object(3)\n",
      "memory usage: 69.8+ KB\n"
     ]
    }
   ],
   "source": [
    "df_visits_business_days.drop_duplicates(subset=['timestamp'], inplace=True)\n",
    "df_visits_business_days.info()"
   ]
  },
  {
   "cell_type": "code",
   "execution_count": null,
   "id": "c81154ba-0fe3-44bd-80d7-c37022c65009",
   "metadata": {},
   "outputs": [
    {
     "data": {
      "text/html": [
       "<div>\n",
       "<style scoped>\n",
       "    .dataframe tbody tr th:only-of-type {\n",
       "        vertical-align: middle;\n",
       "    }\n",
       "\n",
       "    .dataframe tbody tr th {\n",
       "        vertical-align: top;\n",
       "    }\n",
       "\n",
       "    .dataframe thead th {\n",
       "        text-align: right;\n",
       "    }\n",
       "</style>\n",
       "<table border=\"1\" class=\"dataframe\">\n",
       "  <thead>\n",
       "    <tr style=\"text-align: right;\">\n",
       "      <th></th>\n",
       "      <th>count</th>\n",
       "      <th>mean</th>\n",
       "      <th>min</th>\n",
       "      <th>25%</th>\n",
       "      <th>50%</th>\n",
       "      <th>75%</th>\n",
       "      <th>max</th>\n",
       "      <th>std</th>\n",
       "    </tr>\n",
       "  </thead>\n",
       "  <tbody>\n",
       "    <tr>\n",
       "      <th>timestamp</th>\n",
       "      <td>894</td>\n",
       "      <td>2019-01-19 20:58:58.389261824</td>\n",
       "      <td>2014-06-11 21:16:00</td>\n",
       "      <td>2016-09-14 06:06:15</td>\n",
       "      <td>2018-07-27 02:35:30</td>\n",
       "      <td>2021-07-14 02:30:30</td>\n",
       "      <td>2024-03-26 00:43:00</td>\n",
       "      <td>NaN</td>\n",
       "    </tr>\n",
       "    <tr>\n",
       "      <th>latitude</th>\n",
       "      <td>894.0</td>\n",
       "      <td>5.211306</td>\n",
       "      <td>2.707344</td>\n",
       "      <td>4.753506</td>\n",
       "      <td>4.753923</td>\n",
       "      <td>4.945843</td>\n",
       "      <td>11.249607</td>\n",
       "      <td>1.524865</td>\n",
       "    </tr>\n",
       "    <tr>\n",
       "      <th>longitude</th>\n",
       "      <td>894.0</td>\n",
       "      <td>-74.146152</td>\n",
       "      <td>-76.541805</td>\n",
       "      <td>-74.103257</td>\n",
       "      <td>-74.101915</td>\n",
       "      <td>-74.078105</td>\n",
       "      <td>-72.470483</td>\n",
       "      <td>0.472296</td>\n",
       "    </tr>\n",
       "    <tr>\n",
       "      <th>fecha</th>\n",
       "      <td>894</td>\n",
       "      <td>2019-01-19 15:16:30.604026880</td>\n",
       "      <td>2014-06-11 00:00:00</td>\n",
       "      <td>2016-09-14 06:00:00</td>\n",
       "      <td>2018-07-27 00:00:00</td>\n",
       "      <td>2021-07-14 00:00:00</td>\n",
       "      <td>2024-03-26 00:00:00</td>\n",
       "      <td>NaN</td>\n",
       "    </tr>\n",
       "    <tr>\n",
       "      <th>inicio</th>\n",
       "      <td>894</td>\n",
       "      <td>2019-01-19 20:58:58.389261824</td>\n",
       "      <td>2014-06-11 21:16:00</td>\n",
       "      <td>2016-09-14 06:06:15</td>\n",
       "      <td>2018-07-27 02:35:30</td>\n",
       "      <td>2021-07-14 02:30:30</td>\n",
       "      <td>2024-03-26 00:43:00</td>\n",
       "      <td>NaN</td>\n",
       "    </tr>\n",
       "    <tr>\n",
       "      <th>fin</th>\n",
       "      <td>894</td>\n",
       "      <td>2019-01-20 12:24:45.906040320</td>\n",
       "      <td>2014-06-11 21:16:00</td>\n",
       "      <td>2016-09-15 05:21:00</td>\n",
       "      <td>2018-07-27 20:57:30</td>\n",
       "      <td>2021-07-14 23:53:15</td>\n",
       "      <td>2024-03-26 22:57:00</td>\n",
       "      <td>NaN</td>\n",
       "    </tr>\n",
       "  </tbody>\n",
       "</table>\n",
       "</div>"
      ],
      "text/plain": [
       "           count                           mean                  min  \\\n",
       "timestamp    894  2019-01-19 20:58:58.389261824  2014-06-11 21:16:00   \n",
       "latitude   894.0                       5.211306             2.707344   \n",
       "longitude  894.0                     -74.146152           -76.541805   \n",
       "fecha        894  2019-01-19 15:16:30.604026880  2014-06-11 00:00:00   \n",
       "inicio       894  2019-01-19 20:58:58.389261824  2014-06-11 21:16:00   \n",
       "fin          894  2019-01-20 12:24:45.906040320  2014-06-11 21:16:00   \n",
       "\n",
       "                           25%                  50%                  75%  \\\n",
       "timestamp  2016-09-14 06:06:15  2018-07-27 02:35:30  2021-07-14 02:30:30   \n",
       "latitude              4.753506             4.753923             4.945843   \n",
       "longitude           -74.103257           -74.101915           -74.078105   \n",
       "fecha      2016-09-14 06:00:00  2018-07-27 00:00:00  2021-07-14 00:00:00   \n",
       "inicio     2016-09-14 06:06:15  2018-07-27 02:35:30  2021-07-14 02:30:30   \n",
       "fin        2016-09-15 05:21:00  2018-07-27 20:57:30  2021-07-14 23:53:15   \n",
       "\n",
       "                           max       std  \n",
       "timestamp  2024-03-26 00:43:00       NaN  \n",
       "latitude             11.249607  1.524865  \n",
       "longitude           -72.470483  0.472296  \n",
       "fecha      2024-03-26 00:00:00       NaN  \n",
       "inicio     2024-03-26 00:43:00       NaN  \n",
       "fin        2024-03-26 22:57:00       NaN  "
      ]
     },
     "execution_count": 77,
     "metadata": {},
     "output_type": "execute_result"
    }
   ],
   "source": [
    "# %%\n",
    "\n",
    "df_visits_business_days.describe().T"
   ]
  },
  {
   "cell_type": "code",
   "execution_count": null,
   "id": "e482f74b-0612-45fb-8d6f-1356ef480dab",
   "metadata": {},
   "outputs": [
    {
     "data": {
      "text/plain": [
       "['point', 'place', 'recorrido']"
      ]
     },
     "execution_count": 78,
     "metadata": {},
     "output_type": "execute_result"
    }
   ],
   "source": [
    "# %%\n",
    "\n",
    "df_types_visits_business_days = pd.DataFrame(df_visits_business_days.dtypes)\n",
    "object_features_visits_business_days = df_types_visits_business_days[df_types_visits_business_days[0] == 'object'].index.to_list()\n",
    "object_features_visits_business_days"
   ]
  },
  {
   "cell_type": "code",
   "execution_count": null,
   "id": "a79a0ef0-32ba-4470-a05a-c970106bbacf",
   "metadata": {},
   "outputs": [
    {
     "data": {
      "text/plain": [
       "['latitude', 'longitude']"
      ]
     },
     "execution_count": 79,
     "metadata": {},
     "output_type": "execute_result"
    }
   ],
   "source": [
    "# %%\n",
    "\n",
    "float_features_visits_business_days = df_types_visits_business_days[df_types_visits_business_days[0] == 'float64'].index.to_list()\n",
    "float_features_visits_business_days"
   ]
  },
  {
   "cell_type": "code",
   "execution_count": null,
   "id": "e8d7aebc-7317-4f1f-b2b7-4f74ba1e6b20",
   "metadata": {},
   "outputs": [
    {
     "data": {
      "text/plain": [
       "['timestamp', 'fecha', 'inicio', 'fin']"
      ]
     },
     "execution_count": 80,
     "metadata": {},
     "output_type": "execute_result"
    }
   ],
   "source": [
    "# %%\n",
    "\n",
    "date_features_visits_business_days = df_types_visits_business_days[df_types_visits_business_days[0] == 'datetime64[ns]'].index.to_list()\n",
    "date_features_visits_business_days"
   ]
  },
  {
   "cell_type": "code",
   "execution_count": null,
   "id": "27b8716f-92f4-40c7-bb36-bfa4c046f4a8",
   "metadata": {},
   "outputs": [
    {
     "data": {
      "text/html": [
       "<div>\n",
       "<style scoped>\n",
       "    .dataframe tbody tr th:only-of-type {\n",
       "        vertical-align: middle;\n",
       "    }\n",
       "\n",
       "    .dataframe tbody tr th {\n",
       "        vertical-align: top;\n",
       "    }\n",
       "\n",
       "    .dataframe thead th {\n",
       "        text-align: right;\n",
       "    }\n",
       "</style>\n",
       "<table border=\"1\" class=\"dataframe\">\n",
       "  <thead>\n",
       "    <tr style=\"text-align: right;\">\n",
       "      <th></th>\n",
       "      <th>count</th>\n",
       "      <th>unique</th>\n",
       "      <th>top</th>\n",
       "      <th>freq</th>\n",
       "    </tr>\n",
       "  </thead>\n",
       "  <tbody>\n",
       "    <tr>\n",
       "      <th>point</th>\n",
       "      <td>894</td>\n",
       "      <td>823</td>\n",
       "      <td>4.7538511, -74.0988525</td>\n",
       "      <td>23</td>\n",
       "    </tr>\n",
       "    <tr>\n",
       "      <th>place</th>\n",
       "      <td>894</td>\n",
       "      <td>305</td>\n",
       "      <td>Calle 151, Tibabuyes, UPZs de Bogotá, Localida...</td>\n",
       "      <td>152</td>\n",
       "    </tr>\n",
       "    <tr>\n",
       "      <th>recorrido</th>\n",
       "      <td>894</td>\n",
       "      <td>596</td>\n",
       "      <td>0 days 00:00:00</td>\n",
       "      <td>16</td>\n",
       "    </tr>\n",
       "  </tbody>\n",
       "</table>\n",
       "</div>"
      ],
      "text/plain": [
       "          count unique                                                top freq\n",
       "point       894    823                             4.7538511, -74.0988525   23\n",
       "place       894    305  Calle 151, Tibabuyes, UPZs de Bogotá, Localida...  152\n",
       "recorrido   894    596                                    0 days 00:00:00   16"
      ]
     },
     "execution_count": 81,
     "metadata": {},
     "output_type": "execute_result"
    }
   ],
   "source": [
    "# %%\n",
    "\n",
    "df_visits_business_days[object_features_visits_business_days].describe(include='all').T"
   ]
  },
  {
   "cell_type": "code",
   "execution_count": null,
   "id": "ad4bd9b2-0aba-4b79-b5fb-df74c71f2086",
   "metadata": {},
   "outputs": [
    {
     "data": {
      "text/plain": [
       "fecha\n",
       "2014-06-11    1\n",
       "2020-07-18    1\n",
       "2020-06-06    1\n",
       "2020-06-09    1\n",
       "2020-06-15    1\n",
       "             ..\n",
       "2017-02-09    1\n",
       "2017-02-10    1\n",
       "2017-02-11    1\n",
       "2017-02-14    1\n",
       "2024-03-26    1\n",
       "Name: count, Length: 894, dtype: int64"
      ]
     },
     "execution_count": 82,
     "metadata": {},
     "output_type": "execute_result"
    }
   ],
   "source": [
    "# %%\n",
    "\n",
    "df_visits_business_days.fecha.value_counts()"
   ]
  },
  {
   "cell_type": "code",
   "execution_count": null,
   "id": "a0e3d859-de28-45f9-a792-d511c5fc969c",
   "metadata": {},
   "outputs": [
    {
     "data": {
      "text/html": [
       "<div>\n",
       "<style scoped>\n",
       "    .dataframe tbody tr th:only-of-type {\n",
       "        vertical-align: middle;\n",
       "    }\n",
       "\n",
       "    .dataframe tbody tr th {\n",
       "        vertical-align: top;\n",
       "    }\n",
       "\n",
       "    .dataframe thead th {\n",
       "        text-align: right;\n",
       "    }\n",
       "</style>\n",
       "<table border=\"1\" class=\"dataframe\">\n",
       "  <thead>\n",
       "    <tr style=\"text-align: right;\">\n",
       "      <th></th>\n",
       "      <th>timestamp</th>\n",
       "      <th>point</th>\n",
       "      <th>place</th>\n",
       "      <th>latitude</th>\n",
       "      <th>longitude</th>\n",
       "      <th>fecha</th>\n",
       "      <th>inicio</th>\n",
       "      <th>fin</th>\n",
       "      <th>recorrido</th>\n",
       "    </tr>\n",
       "  </thead>\n",
       "  <tbody>\n",
       "    <tr>\n",
       "      <th>813</th>\n",
       "      <td>2022-02-12 09:47:00</td>\n",
       "      <td>4.75271, -74.099425</td>\n",
       "      <td>tr3z comida peruana, 7911183, Carrera 111A, Ti...</td>\n",
       "      <td>4.75271</td>\n",
       "      <td>-74.099425</td>\n",
       "      <td>2022-02-12</td>\n",
       "      <td>2022-02-12 09:47:00</td>\n",
       "      <td>2022-02-12 22:32:00</td>\n",
       "      <td>0 days 12:45:00</td>\n",
       "    </tr>\n",
       "  </tbody>\n",
       "</table>\n",
       "</div>"
      ],
      "text/plain": [
       "              timestamp                point  \\\n",
       "813 2022-02-12 09:47:00  4.75271, -74.099425   \n",
       "\n",
       "                                                 place  latitude  longitude  \\\n",
       "813  tr3z comida peruana, 7911183, Carrera 111A, Ti...   4.75271 -74.099425   \n",
       "\n",
       "         fecha              inicio                 fin        recorrido  \n",
       "813 2022-02-12 2022-02-12 09:47:00 2022-02-12 22:32:00  0 days 12:45:00  "
      ]
     },
     "execution_count": 83,
     "metadata": {},
     "output_type": "execute_result"
    }
   ],
   "source": [
    "# %%\n",
    "\n",
    "df_visits_business_days[df_visits_business_days['fecha'] == '2022-02-12']"
   ]
  },
  {
   "cell_type": "markdown",
   "id": "7011359c-173c-4022-be36-66624e39cfb4",
   "metadata": {},
   "source": [
    "# %% [markdown]\n",
    "\n",
    " ## Save data"
   ]
  },
  {
   "cell_type": "code",
   "execution_count": null,
   "id": "c22d5379-6d1a-4f92-b470-c4ab9596da40",
   "metadata": {},
   "outputs": [],
   "source": [
    "df_visits_business_days.to_csv('../backend/data/visitas_business_days.csv', index=False)"
   ]
  }
 ],
 "metadata": {
  "language_info": {
   "codemirror_mode": {
    "name": "ipython",
    "version": 3
   },
   "file_extension": ".py",
   "mimetype": "text/x-python",
   "name": "python",
   "nbconvert_exporter": "python",
   "pygments_lexer": "ipython3",
   "version": 3
  }
 },
 "nbformat": 4,
 "nbformat_minor": 2
}
