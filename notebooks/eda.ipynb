{
 "cells": [
  {
   "cell_type": "code",
   "execution_count": null,
   "id": "83ed9bc2-4c5f-486f-bd8b-a8520e9551a9",
   "metadata": {},
   "outputs": [],
   "source": [
    "\"\"\" EDA for the visits data \"\"\"\n",
    "# %%\n",
    "import pandas as pd"
   ]
  },
  {
   "cell_type": "markdown",
   "id": "688dd8a7-12df-4e46-8ef9-7f064ce5b88f",
   "metadata": {},
   "source": [
    "# %% [markdown]\n",
    "\n",
    " ## Load data"
   ]
  },
  {
   "cell_type": "code",
   "execution_count": null,
   "id": "c29287fc-222a-4a35-b12f-b914463b2434",
   "metadata": {},
   "outputs": [],
   "source": [
    "df_visits = pd.read_csv('../backend/data/99-visitas_uriel.csv')\n",
    "df_business_days = pd.read_csv('../backend/data/resultados_uriel_mazabuel.csv') "
   ]
  },
  {
   "cell_type": "markdown",
   "id": "68048355-34cc-4eca-8872-f774dd047c58",
   "metadata": {},
   "source": [
    "# %% [markdown]\n",
    "\n",
    " ## visits data"
   ]
  },
  {
   "cell_type": "code",
   "execution_count": null,
   "id": "cfb0172d-c0a7-4948-b152-6e1b0dc5c1cc",
   "metadata": {},
   "outputs": [
    {
     "name": "stdout",
     "output_type": "stream",
     "text": [
      "<class 'pandas.core.frame.DataFrame'>\n",
      "RangeIndex: 367379 entries, 0 to 367378\n",
      "Data columns (total 3 columns):\n",
      " #   Column     Non-Null Count   Dtype \n",
      "---  ------     --------------   ----- \n",
      " 0   timestamp  367379 non-null  object\n",
      " 1   point      367379 non-null  object\n",
      " 2   place      367379 non-null  object\n",
      "dtypes: object(3)\n",
      "memory usage: 8.4+ MB\n"
     ]
    }
   ],
   "source": [
    "df_visits.info()"
   ]
  },
  {
   "cell_type": "code",
   "execution_count": null,
   "id": "f1c5bd1a-9119-48c1-ba52-32eb93c06ec2",
   "metadata": {},
   "outputs": [
    {
     "name": "stdout",
     "output_type": "stream",
     "text": [
      "<class 'pandas.core.frame.DataFrame'>\n",
      "RangeIndex: 367379 entries, 0 to 367378\n",
      "Data columns (total 5 columns):\n",
      " #   Column     Non-Null Count   Dtype         \n",
      "---  ------     --------------   -----         \n",
      " 0   timestamp  367379 non-null  datetime64[ns]\n",
      " 1   point      367379 non-null  object        \n",
      " 2   place      367379 non-null  object        \n",
      " 3   latitude   367379 non-null  float64       \n",
      " 4   longitude  367379 non-null  float64       \n",
      "dtypes: datetime64[ns](1), float64(2), object(2)\n",
      "memory usage: 14.0+ MB\n"
     ]
    }
   ],
   "source": [
    "# %%\n",
    "\n",
    "df_visits['timestamp'] = pd.to_datetime(df_visits['timestamp']).dt.tz_localize(None)\n",
    "df_visits[['latitude','longitude']] = df_visits['point'].str.split(',', expand=True).astype(float)\n",
    "df_visits.info()"
   ]
  },
  {
   "cell_type": "code",
   "execution_count": null,
   "id": "ddbbc444-1bcd-4d11-b41f-ad11e9f1baf8",
   "metadata": {},
   "outputs": [
    {
     "data": {
      "text/html": [
       "<div>\n",
       "<style scoped>\n",
       "    .dataframe tbody tr th:only-of-type {\n",
       "        vertical-align: middle;\n",
       "    }\n",
       "\n",
       "    .dataframe tbody tr th {\n",
       "        vertical-align: top;\n",
       "    }\n",
       "\n",
       "    .dataframe thead th {\n",
       "        text-align: right;\n",
       "    }\n",
       "</style>\n",
       "<table border=\"1\" class=\"dataframe\">\n",
       "  <thead>\n",
       "    <tr style=\"text-align: right;\">\n",
       "      <th></th>\n",
       "      <th>timestamp</th>\n",
       "      <th>point</th>\n",
       "      <th>place</th>\n",
       "      <th>latitude</th>\n",
       "      <th>longitude</th>\n",
       "    </tr>\n",
       "  </thead>\n",
       "  <tbody>\n",
       "    <tr>\n",
       "      <th>0</th>\n",
       "      <td>2014-06-04 22:24:00</td>\n",
       "      <td>4.753851, -74.1019103</td>\n",
       "      <td>Calle 151, Tibabuyes, UPZs de Bogotá, Localida...</td>\n",
       "      <td>4.753851</td>\n",
       "      <td>-74.101910</td>\n",
       "    </tr>\n",
       "    <tr>\n",
       "      <th>1</th>\n",
       "      <td>2014-06-06 07:37:00</td>\n",
       "      <td>4.7579942, -74.1059858</td>\n",
       "      <td>Carrera 136A, Suba Compartir, UPZs de Bogotá, ...</td>\n",
       "      <td>4.757994</td>\n",
       "      <td>-74.105986</td>\n",
       "    </tr>\n",
       "    <tr>\n",
       "      <th>2</th>\n",
       "      <td>2014-06-06 08:42:00</td>\n",
       "      <td>4.6735214, -74.1452833</td>\n",
       "      <td>Carrera 100, Fontibón, UPZs de Bogotá, Localid...</td>\n",
       "      <td>4.673521</td>\n",
       "      <td>-74.145283</td>\n",
       "    </tr>\n",
       "    <tr>\n",
       "      <th>3</th>\n",
       "      <td>2014-06-06 11:36:00</td>\n",
       "      <td>4.6162576, -74.1061934</td>\n",
       "      <td>Calle 5C, Primavera Occidental, UPZs de Bogotá...</td>\n",
       "      <td>4.616258</td>\n",
       "      <td>-74.106193</td>\n",
       "    </tr>\n",
       "    <tr>\n",
       "      <th>4</th>\n",
       "      <td>2014-06-06 11:37:00</td>\n",
       "      <td>4.613875, -74.104923</td>\n",
       "      <td>Avenida Calle 6, Primavera Occidental, UPZs de...</td>\n",
       "      <td>4.613875</td>\n",
       "      <td>-74.104923</td>\n",
       "    </tr>\n",
       "  </tbody>\n",
       "</table>\n",
       "</div>"
      ],
      "text/plain": [
       "            timestamp                   point  \\\n",
       "0 2014-06-04 22:24:00   4.753851, -74.1019103   \n",
       "1 2014-06-06 07:37:00  4.7579942, -74.1059858   \n",
       "2 2014-06-06 08:42:00  4.6735214, -74.1452833   \n",
       "3 2014-06-06 11:36:00  4.6162576, -74.1061934   \n",
       "4 2014-06-06 11:37:00    4.613875, -74.104923   \n",
       "\n",
       "                                               place  latitude  longitude  \n",
       "0  Calle 151, Tibabuyes, UPZs de Bogotá, Localida...  4.753851 -74.101910  \n",
       "1  Carrera 136A, Suba Compartir, UPZs de Bogotá, ...  4.757994 -74.105986  \n",
       "2  Carrera 100, Fontibón, UPZs de Bogotá, Localid...  4.673521 -74.145283  \n",
       "3  Calle 5C, Primavera Occidental, UPZs de Bogotá...  4.616258 -74.106193  \n",
       "4  Avenida Calle 6, Primavera Occidental, UPZs de...  4.613875 -74.104923  "
      ]
     },
     "execution_count": 151,
     "metadata": {},
     "output_type": "execute_result"
    }
   ],
   "source": [
    "# %%\n",
    "\n",
    "df_visits.head()"
   ]
  },
  {
   "cell_type": "code",
   "execution_count": null,
   "id": "e86ba59b-ee32-46a8-8863-ac4c692cc8b0",
   "metadata": {},
   "outputs": [
    {
     "data": {
      "text/html": [
       "<div>\n",
       "<style scoped>\n",
       "    .dataframe tbody tr th:only-of-type {\n",
       "        vertical-align: middle;\n",
       "    }\n",
       "\n",
       "    .dataframe tbody tr th {\n",
       "        vertical-align: top;\n",
       "    }\n",
       "\n",
       "    .dataframe thead th {\n",
       "        text-align: right;\n",
       "    }\n",
       "</style>\n",
       "<table border=\"1\" class=\"dataframe\">\n",
       "  <thead>\n",
       "    <tr style=\"text-align: right;\">\n",
       "      <th></th>\n",
       "      <th>count</th>\n",
       "      <th>mean</th>\n",
       "      <th>min</th>\n",
       "      <th>25%</th>\n",
       "      <th>50%</th>\n",
       "      <th>75%</th>\n",
       "      <th>max</th>\n",
       "      <th>std</th>\n",
       "    </tr>\n",
       "  </thead>\n",
       "  <tbody>\n",
       "    <tr>\n",
       "      <th>timestamp</th>\n",
       "      <td>367379</td>\n",
       "      <td>2021-02-25 03:11:49.806276352</td>\n",
       "      <td>2014-06-04 22:24:00</td>\n",
       "      <td>2019-03-07 18:32:00</td>\n",
       "      <td>2021-11-11 19:51:00</td>\n",
       "      <td>2023-02-21 12:21:30</td>\n",
       "      <td>2025-01-07 11:33:00</td>\n",
       "      <td>NaN</td>\n",
       "    </tr>\n",
       "    <tr>\n",
       "      <th>latitude</th>\n",
       "      <td>367379.0</td>\n",
       "      <td>5.268799</td>\n",
       "      <td>0.799459</td>\n",
       "      <td>4.627612</td>\n",
       "      <td>4.80056</td>\n",
       "      <td>5.521675</td>\n",
       "      <td>22.187282</td>\n",
       "      <td>1.611471</td>\n",
       "    </tr>\n",
       "    <tr>\n",
       "      <th>longitude</th>\n",
       "      <td>367379.0</td>\n",
       "      <td>-74.280175</td>\n",
       "      <td>-81.732719</td>\n",
       "      <td>-74.539188</td>\n",
       "      <td>-74.099587</td>\n",
       "      <td>-73.946177</td>\n",
       "      <td>113.554035</td>\n",
       "      <td>0.875201</td>\n",
       "    </tr>\n",
       "  </tbody>\n",
       "</table>\n",
       "</div>"
      ],
      "text/plain": [
       "              count                           mean                  min  \\\n",
       "timestamp    367379  2021-02-25 03:11:49.806276352  2014-06-04 22:24:00   \n",
       "latitude   367379.0                       5.268799             0.799459   \n",
       "longitude  367379.0                     -74.280175           -81.732719   \n",
       "\n",
       "                           25%                  50%                  75%  \\\n",
       "timestamp  2019-03-07 18:32:00  2021-11-11 19:51:00  2023-02-21 12:21:30   \n",
       "latitude              4.627612              4.80056             5.521675   \n",
       "longitude           -74.539188           -74.099587           -73.946177   \n",
       "\n",
       "                           max       std  \n",
       "timestamp  2025-01-07 11:33:00       NaN  \n",
       "latitude             22.187282  1.611471  \n",
       "longitude           113.554035  0.875201  "
      ]
     },
     "execution_count": 152,
     "metadata": {},
     "output_type": "execute_result"
    }
   ],
   "source": [
    "# %%\n",
    "\n",
    "df_visits.describe().T"
   ]
  },
  {
   "cell_type": "code",
   "execution_count": null,
   "id": "7a5301f0-2c49-47f4-be37-489a9cf7e21d",
   "metadata": {},
   "outputs": [
    {
     "data": {
      "text/plain": [
       "['point', 'place']"
      ]
     },
     "execution_count": 153,
     "metadata": {},
     "output_type": "execute_result"
    }
   ],
   "source": [
    "# %%\n",
    "\n",
    "df_types_visits = pd.DataFrame(df_visits.dtypes)\n",
    "object_features_visits = df_types_visits[df_types_visits[0] == 'object'].index.to_list()\n",
    "object_features_visits"
   ]
  },
  {
   "cell_type": "code",
   "execution_count": null,
   "id": "0984a2b0-e089-4d26-a61c-395f029f7030",
   "metadata": {},
   "outputs": [
    {
     "data": {
      "text/plain": [
       "['latitude', 'longitude']"
      ]
     },
     "execution_count": 154,
     "metadata": {},
     "output_type": "execute_result"
    }
   ],
   "source": [
    "# %%\n",
    "\n",
    "float_features_visits = df_types_visits[df_types_visits[0] == 'float64'].index.to_list()\n",
    "float_features_visits"
   ]
  },
  {
   "cell_type": "code",
   "execution_count": null,
   "id": "b2480769-b7ca-4ddb-ae50-aa4fe46c05a6",
   "metadata": {},
   "outputs": [
    {
     "data": {
      "text/plain": [
       "['timestamp']"
      ]
     },
     "execution_count": 155,
     "metadata": {},
     "output_type": "execute_result"
    }
   ],
   "source": [
    "# %%\n",
    "\n",
    "date_features_visits = df_types_visits[df_types_visits[0] == 'datetime64[ns]'].index.to_list()\n",
    "date_features_visits"
   ]
  },
  {
   "cell_type": "code",
   "execution_count": null,
   "id": "be7c6ade-b802-432c-9329-d4f58f0313b1",
   "metadata": {},
   "outputs": [
    {
     "data": {
      "text/html": [
       "<div>\n",
       "<style scoped>\n",
       "    .dataframe tbody tr th:only-of-type {\n",
       "        vertical-align: middle;\n",
       "    }\n",
       "\n",
       "    .dataframe tbody tr th {\n",
       "        vertical-align: top;\n",
       "    }\n",
       "\n",
       "    .dataframe thead th {\n",
       "        text-align: right;\n",
       "    }\n",
       "</style>\n",
       "<table border=\"1\" class=\"dataframe\">\n",
       "  <thead>\n",
       "    <tr style=\"text-align: right;\">\n",
       "      <th></th>\n",
       "      <th>count</th>\n",
       "      <th>unique</th>\n",
       "      <th>top</th>\n",
       "      <th>freq</th>\n",
       "    </tr>\n",
       "  </thead>\n",
       "  <tbody>\n",
       "    <tr>\n",
       "      <th>point</th>\n",
       "      <td>367379</td>\n",
       "      <td>314776</td>\n",
       "      <td>4.7532264, -74.0988525</td>\n",
       "      <td>326</td>\n",
       "    </tr>\n",
       "    <tr>\n",
       "      <th>place</th>\n",
       "      <td>367379</td>\n",
       "      <td>20538</td>\n",
       "      <td>Autopista Norte, Tocancipá, Sabana Centro, RAP...</td>\n",
       "      <td>16438</td>\n",
       "    </tr>\n",
       "  </tbody>\n",
       "</table>\n",
       "</div>"
      ],
      "text/plain": [
       "        count  unique                                                top  \\\n",
       "point  367379  314776                             4.7532264, -74.0988525   \n",
       "place  367379   20538  Autopista Norte, Tocancipá, Sabana Centro, RAP...   \n",
       "\n",
       "        freq  \n",
       "point    326  \n",
       "place  16438  "
      ]
     },
     "execution_count": 156,
     "metadata": {},
     "output_type": "execute_result"
    }
   ],
   "source": [
    "# %%\n",
    "\n",
    "df_visits[object_features_visits].describe(include='all').T"
   ]
  },
  {
   "cell_type": "markdown",
   "id": "071a2225-39fb-461f-b03c-693fd7967787",
   "metadata": {},
   "source": [
    "# %% [markdown]\n",
    "\n",
    " ## business days data"
   ]
  },
  {
   "cell_type": "code",
   "execution_count": null,
   "id": "3d7ebc5a-4acf-4023-a5c6-01f8cc56baf7",
   "metadata": {},
   "outputs": [
    {
     "name": "stdout",
     "output_type": "stream",
     "text": [
      "<class 'pandas.core.frame.DataFrame'>\n",
      "RangeIndex: 894 entries, 0 to 893\n",
      "Data columns (total 4 columns):\n",
      " #   Column     Non-Null Count  Dtype \n",
      "---  ------     --------------  ----- \n",
      " 0   fecha      894 non-null    object\n",
      " 1   inicio     894 non-null    object\n",
      " 2   fin        894 non-null    object\n",
      " 3   recorrido  894 non-null    object\n",
      "dtypes: object(4)\n",
      "memory usage: 28.1+ KB\n"
     ]
    }
   ],
   "source": [
    "df_business_days.info()"
   ]
  },
  {
   "cell_type": "code",
   "execution_count": null,
   "id": "cc6e432a-fab3-4eb9-921f-e3d5958be56c",
   "metadata": {},
   "outputs": [],
   "source": [
    "# %%\n",
    "\n",
    "df_business_days['fecha'] = pd.to_datetime(df_business_days['fecha'])\n",
    "df_business_days['inicio'] = pd.to_datetime(df_business_days['inicio'])\n",
    "df_business_days['fin'] = pd.to_datetime(df_business_days['fin'])"
   ]
  },
  {
   "cell_type": "code",
   "execution_count": null,
   "id": "ff341846-e168-424c-96e0-7d0e9ceb2a86",
   "metadata": {},
   "outputs": [
    {
     "name": "stdout",
     "output_type": "stream",
     "text": [
      "<class 'pandas.core.frame.DataFrame'>\n",
      "RangeIndex: 894 entries, 0 to 893\n",
      "Data columns (total 4 columns):\n",
      " #   Column     Non-Null Count  Dtype         \n",
      "---  ------     --------------  -----         \n",
      " 0   fecha      894 non-null    datetime64[ns]\n",
      " 1   inicio     894 non-null    datetime64[ns]\n",
      " 2   fin        894 non-null    datetime64[ns]\n",
      " 3   recorrido  894 non-null    object        \n",
      "dtypes: datetime64[ns](3), object(1)\n",
      "memory usage: 28.1+ KB\n"
     ]
    }
   ],
   "source": [
    "# %%\n",
    "\n",
    "df_business_days.info()"
   ]
  },
  {
   "cell_type": "code",
   "execution_count": null,
   "id": "3eb6c6b0-417c-449d-a079-26801af6f012",
   "metadata": {},
   "outputs": [
    {
     "data": {
      "text/html": [
       "<div>\n",
       "<style scoped>\n",
       "    .dataframe tbody tr th:only-of-type {\n",
       "        vertical-align: middle;\n",
       "    }\n",
       "\n",
       "    .dataframe tbody tr th {\n",
       "        vertical-align: top;\n",
       "    }\n",
       "\n",
       "    .dataframe thead th {\n",
       "        text-align: right;\n",
       "    }\n",
       "</style>\n",
       "<table border=\"1\" class=\"dataframe\">\n",
       "  <thead>\n",
       "    <tr style=\"text-align: right;\">\n",
       "      <th></th>\n",
       "      <th>fecha</th>\n",
       "      <th>inicio</th>\n",
       "      <th>fin</th>\n",
       "      <th>recorrido</th>\n",
       "    </tr>\n",
       "  </thead>\n",
       "  <tbody>\n",
       "    <tr>\n",
       "      <th>0</th>\n",
       "      <td>2014-06-11</td>\n",
       "      <td>2014-06-11 21:16:00</td>\n",
       "      <td>2014-06-11 21:16:00</td>\n",
       "      <td>0 days 00:00:00</td>\n",
       "    </tr>\n",
       "    <tr>\n",
       "      <th>1</th>\n",
       "      <td>2014-06-14</td>\n",
       "      <td>2014-06-14 17:36:00</td>\n",
       "      <td>2014-06-14 18:34:00</td>\n",
       "      <td>0 days 00:58:00</td>\n",
       "    </tr>\n",
       "    <tr>\n",
       "      <th>2</th>\n",
       "      <td>2014-06-18</td>\n",
       "      <td>2014-06-18 00:51:00</td>\n",
       "      <td>2014-06-18 22:21:00</td>\n",
       "      <td>0 days 21:30:00</td>\n",
       "    </tr>\n",
       "    <tr>\n",
       "      <th>3</th>\n",
       "      <td>2014-06-25</td>\n",
       "      <td>2014-06-25 05:34:00</td>\n",
       "      <td>2014-06-25 20:26:00</td>\n",
       "      <td>0 days 14:52:00</td>\n",
       "    </tr>\n",
       "    <tr>\n",
       "      <th>4</th>\n",
       "      <td>2014-07-02</td>\n",
       "      <td>2014-07-02 22:35:00</td>\n",
       "      <td>2014-07-02 22:35:00</td>\n",
       "      <td>0 days 00:00:00</td>\n",
       "    </tr>\n",
       "  </tbody>\n",
       "</table>\n",
       "</div>"
      ],
      "text/plain": [
       "       fecha              inicio                 fin        recorrido\n",
       "0 2014-06-11 2014-06-11 21:16:00 2014-06-11 21:16:00  0 days 00:00:00\n",
       "1 2014-06-14 2014-06-14 17:36:00 2014-06-14 18:34:00  0 days 00:58:00\n",
       "2 2014-06-18 2014-06-18 00:51:00 2014-06-18 22:21:00  0 days 21:30:00\n",
       "3 2014-06-25 2014-06-25 05:34:00 2014-06-25 20:26:00  0 days 14:52:00\n",
       "4 2014-07-02 2014-07-02 22:35:00 2014-07-02 22:35:00  0 days 00:00:00"
      ]
     },
     "execution_count": 160,
     "metadata": {},
     "output_type": "execute_result"
    }
   ],
   "source": [
    "# %%\n",
    "\n",
    "df_business_days.head()"
   ]
  },
  {
   "cell_type": "code",
   "execution_count": null,
   "id": "7a6cbb72-f78a-4ab2-8c34-52d2299ea71e",
   "metadata": {},
   "outputs": [
    {
     "data": {
      "text/html": [
       "<div>\n",
       "<style scoped>\n",
       "    .dataframe tbody tr th:only-of-type {\n",
       "        vertical-align: middle;\n",
       "    }\n",
       "\n",
       "    .dataframe tbody tr th {\n",
       "        vertical-align: top;\n",
       "    }\n",
       "\n",
       "    .dataframe thead th {\n",
       "        text-align: right;\n",
       "    }\n",
       "</style>\n",
       "<table border=\"1\" class=\"dataframe\">\n",
       "  <thead>\n",
       "    <tr style=\"text-align: right;\">\n",
       "      <th></th>\n",
       "      <th>count</th>\n",
       "      <th>mean</th>\n",
       "      <th>min</th>\n",
       "      <th>25%</th>\n",
       "      <th>50%</th>\n",
       "      <th>75%</th>\n",
       "      <th>max</th>\n",
       "    </tr>\n",
       "  </thead>\n",
       "  <tbody>\n",
       "    <tr>\n",
       "      <th>fecha</th>\n",
       "      <td>894</td>\n",
       "      <td>2019-01-19 15:16:30.604026880</td>\n",
       "      <td>2014-06-11 00:00:00</td>\n",
       "      <td>2016-09-14 06:00:00</td>\n",
       "      <td>2018-07-27 00:00:00</td>\n",
       "      <td>2021-07-14 00:00:00</td>\n",
       "      <td>2024-03-26 00:00:00</td>\n",
       "    </tr>\n",
       "    <tr>\n",
       "      <th>inicio</th>\n",
       "      <td>894</td>\n",
       "      <td>2019-01-19 20:58:58.389261824</td>\n",
       "      <td>2014-06-11 21:16:00</td>\n",
       "      <td>2016-09-14 06:06:15</td>\n",
       "      <td>2018-07-27 02:35:30</td>\n",
       "      <td>2021-07-14 02:30:30</td>\n",
       "      <td>2024-03-26 00:43:00</td>\n",
       "    </tr>\n",
       "    <tr>\n",
       "      <th>fin</th>\n",
       "      <td>894</td>\n",
       "      <td>2019-01-20 12:24:45.906040320</td>\n",
       "      <td>2014-06-11 21:16:00</td>\n",
       "      <td>2016-09-15 05:21:00</td>\n",
       "      <td>2018-07-27 20:57:30</td>\n",
       "      <td>2021-07-14 23:53:15</td>\n",
       "      <td>2024-03-26 22:57:00</td>\n",
       "    </tr>\n",
       "  </tbody>\n",
       "</table>\n",
       "</div>"
      ],
      "text/plain": [
       "       count                           mean                  min  \\\n",
       "fecha    894  2019-01-19 15:16:30.604026880  2014-06-11 00:00:00   \n",
       "inicio   894  2019-01-19 20:58:58.389261824  2014-06-11 21:16:00   \n",
       "fin      894  2019-01-20 12:24:45.906040320  2014-06-11 21:16:00   \n",
       "\n",
       "                        25%                  50%                  75%  \\\n",
       "fecha   2016-09-14 06:00:00  2018-07-27 00:00:00  2021-07-14 00:00:00   \n",
       "inicio  2016-09-14 06:06:15  2018-07-27 02:35:30  2021-07-14 02:30:30   \n",
       "fin     2016-09-15 05:21:00  2018-07-27 20:57:30  2021-07-14 23:53:15   \n",
       "\n",
       "                        max  \n",
       "fecha   2024-03-26 00:00:00  \n",
       "inicio  2024-03-26 00:43:00  \n",
       "fin     2024-03-26 22:57:00  "
      ]
     },
     "execution_count": 161,
     "metadata": {},
     "output_type": "execute_result"
    }
   ],
   "source": [
    "# %%\n",
    "\n",
    "df_business_days.describe().T"
   ]
  },
  {
   "cell_type": "code",
   "execution_count": null,
   "id": "eb03ca6b-9245-499b-bfce-36d0b789fb4a",
   "metadata": {},
   "outputs": [
    {
     "data": {
      "text/plain": [
       "['recorrido']"
      ]
     },
     "execution_count": 162,
     "metadata": {},
     "output_type": "execute_result"
    }
   ],
   "source": [
    "# %%\n",
    "\n",
    "df_types_business_days = pd.DataFrame(df_business_days.dtypes)\n",
    "object_features_business_days = df_types_business_days[df_types_business_days[0] == 'object'].index.to_list()\n",
    "object_features_business_days"
   ]
  },
  {
   "cell_type": "code",
   "execution_count": null,
   "id": "ddc4dc16-ca55-4e20-a3b2-bf70a253fb5d",
   "metadata": {},
   "outputs": [
    {
     "data": {
      "text/html": [
       "<div>\n",
       "<style scoped>\n",
       "    .dataframe tbody tr th:only-of-type {\n",
       "        vertical-align: middle;\n",
       "    }\n",
       "\n",
       "    .dataframe tbody tr th {\n",
       "        vertical-align: top;\n",
       "    }\n",
       "\n",
       "    .dataframe thead th {\n",
       "        text-align: right;\n",
       "    }\n",
       "</style>\n",
       "<table border=\"1\" class=\"dataframe\">\n",
       "  <thead>\n",
       "    <tr style=\"text-align: right;\">\n",
       "      <th></th>\n",
       "      <th>count</th>\n",
       "      <th>unique</th>\n",
       "      <th>top</th>\n",
       "      <th>freq</th>\n",
       "    </tr>\n",
       "  </thead>\n",
       "  <tbody>\n",
       "    <tr>\n",
       "      <th>recorrido</th>\n",
       "      <td>894</td>\n",
       "      <td>596</td>\n",
       "      <td>0 days 00:00:00</td>\n",
       "      <td>16</td>\n",
       "    </tr>\n",
       "  </tbody>\n",
       "</table>\n",
       "</div>"
      ],
      "text/plain": [
       "          count unique              top freq\n",
       "recorrido   894    596  0 days 00:00:00   16"
      ]
     },
     "execution_count": 163,
     "metadata": {},
     "output_type": "execute_result"
    }
   ],
   "source": [
    "# %%\n",
    "\n",
    "df_business_days[object_features_business_days].describe(include='all').T"
   ]
  },
  {
   "cell_type": "markdown",
   "id": "afc5cd00-d22c-4afc-ab28-ca82069becfa",
   "metadata": {},
   "source": [
    "# %% [markdown]\n",
    "\n",
    " ## Merge visits with business days"
   ]
  },
  {
   "cell_type": "code",
   "execution_count": null,
   "id": "5441d6bc-af36-4b58-a1b0-10545d108719",
   "metadata": {},
   "outputs": [],
   "source": [
    "df_visits_business_days = df_visits.merge(df_business_days, how='right', left_on='timestamp', right_on='inicio')"
   ]
  },
  {
   "cell_type": "code",
   "execution_count": null,
   "id": "a5dd12b6-6196-4466-9c6c-2ce5c203d401",
   "metadata": {},
   "outputs": [
    {
     "data": {
      "text/html": [
       "<div>\n",
       "<style scoped>\n",
       "    .dataframe tbody tr th:only-of-type {\n",
       "        vertical-align: middle;\n",
       "    }\n",
       "\n",
       "    .dataframe tbody tr th {\n",
       "        vertical-align: top;\n",
       "    }\n",
       "\n",
       "    .dataframe thead th {\n",
       "        text-align: right;\n",
       "    }\n",
       "</style>\n",
       "<table border=\"1\" class=\"dataframe\">\n",
       "  <thead>\n",
       "    <tr style=\"text-align: right;\">\n",
       "      <th></th>\n",
       "      <th>timestamp</th>\n",
       "      <th>point</th>\n",
       "      <th>place</th>\n",
       "      <th>latitude</th>\n",
       "      <th>longitude</th>\n",
       "      <th>fecha</th>\n",
       "      <th>inicio</th>\n",
       "      <th>fin</th>\n",
       "      <th>recorrido</th>\n",
       "    </tr>\n",
       "  </thead>\n",
       "  <tbody>\n",
       "    <tr>\n",
       "      <th>0</th>\n",
       "      <td>2014-06-11 21:16:00</td>\n",
       "      <td>4.7538459, -74.1018654</td>\n",
       "      <td>Calle 151, Tibabuyes, UPZs de Bogotá, Localida...</td>\n",
       "      <td>4.753846</td>\n",
       "      <td>-74.101865</td>\n",
       "      <td>2014-06-11</td>\n",
       "      <td>2014-06-11 21:16:00</td>\n",
       "      <td>2014-06-11 21:16:00</td>\n",
       "      <td>0 days 00:00:00</td>\n",
       "    </tr>\n",
       "    <tr>\n",
       "      <th>1</th>\n",
       "      <td>2014-06-14 17:36:00</td>\n",
       "      <td>4.7528523, -74.0988562</td>\n",
       "      <td>Calle 151, Tibabuyes, UPZs de Bogotá, Localida...</td>\n",
       "      <td>4.752852</td>\n",
       "      <td>-74.098856</td>\n",
       "      <td>2014-06-14</td>\n",
       "      <td>2014-06-14 17:36:00</td>\n",
       "      <td>2014-06-14 18:34:00</td>\n",
       "      <td>0 days 00:58:00</td>\n",
       "    </tr>\n",
       "    <tr>\n",
       "      <th>2</th>\n",
       "      <td>2014-06-18 00:51:00</td>\n",
       "      <td>4.7538915, -74.1018722</td>\n",
       "      <td>Calle 151, Tibabuyes, UPZs de Bogotá, Localida...</td>\n",
       "      <td>4.753891</td>\n",
       "      <td>-74.101872</td>\n",
       "      <td>2014-06-18</td>\n",
       "      <td>2014-06-18 00:51:00</td>\n",
       "      <td>2014-06-18 22:21:00</td>\n",
       "      <td>0 days 21:30:00</td>\n",
       "    </tr>\n",
       "    <tr>\n",
       "      <th>3</th>\n",
       "      <td>2014-06-25 05:34:00</td>\n",
       "      <td>4.7539288, -74.1025566</td>\n",
       "      <td>Carrera 115, Almendros, UPZs de Bogotá, Locali...</td>\n",
       "      <td>4.753929</td>\n",
       "      <td>-74.102557</td>\n",
       "      <td>2014-06-25</td>\n",
       "      <td>2014-06-25 05:34:00</td>\n",
       "      <td>2014-06-25 20:26:00</td>\n",
       "      <td>0 days 14:52:00</td>\n",
       "    </tr>\n",
       "    <tr>\n",
       "      <th>4</th>\n",
       "      <td>2014-07-02 22:35:00</td>\n",
       "      <td>4.7539656, -74.1018835</td>\n",
       "      <td>Calle 151, Tibabuyes, UPZs de Bogotá, Localida...</td>\n",
       "      <td>4.753966</td>\n",
       "      <td>-74.101883</td>\n",
       "      <td>2014-07-02</td>\n",
       "      <td>2014-07-02 22:35:00</td>\n",
       "      <td>2014-07-02 22:35:00</td>\n",
       "      <td>0 days 00:00:00</td>\n",
       "    </tr>\n",
       "    <tr>\n",
       "      <th>...</th>\n",
       "      <td>...</td>\n",
       "      <td>...</td>\n",
       "      <td>...</td>\n",
       "      <td>...</td>\n",
       "      <td>...</td>\n",
       "      <td>...</td>\n",
       "      <td>...</td>\n",
       "      <td>...</td>\n",
       "      <td>...</td>\n",
       "    </tr>\n",
       "    <tr>\n",
       "      <th>1000</th>\n",
       "      <td>2024-03-14 10:28:00</td>\n",
       "      <td>4.7541006, -74.1027117</td>\n",
       "      <td>Calle 150C, Almendros, UPZs de Bogotá, Localid...</td>\n",
       "      <td>4.754101</td>\n",
       "      <td>-74.102712</td>\n",
       "      <td>2024-03-14</td>\n",
       "      <td>2024-03-14 10:28:00</td>\n",
       "      <td>2024-03-14 23:46:00</td>\n",
       "      <td>0 days 13:18:00</td>\n",
       "    </tr>\n",
       "    <tr>\n",
       "      <th>1001</th>\n",
       "      <td>2024-03-17 11:35:00</td>\n",
       "      <td>6.0162505, -75.1580961</td>\n",
       "      <td>Autopista Medellín - Bogotá, La Piñuela, Cocor...</td>\n",
       "      <td>6.016250</td>\n",
       "      <td>-75.158096</td>\n",
       "      <td>2024-03-17</td>\n",
       "      <td>2024-03-17 11:35:00</td>\n",
       "      <td>2024-03-17 19:43:00</td>\n",
       "      <td>0 days 08:08:00</td>\n",
       "    </tr>\n",
       "    <tr>\n",
       "      <th>1002</th>\n",
       "      <td>2024-03-20 10:20:00</td>\n",
       "      <td>7.1610454, -73.1373577</td>\n",
       "      <td>Madrid, Comuna 1 - Norte, Perímetro Urbano Buc...</td>\n",
       "      <td>7.161045</td>\n",
       "      <td>-73.137358</td>\n",
       "      <td>2024-03-20</td>\n",
       "      <td>2024-03-20 10:20:00</td>\n",
       "      <td>2024-03-20 18:35:00</td>\n",
       "      <td>0 days 08:15:00</td>\n",
       "    </tr>\n",
       "    <tr>\n",
       "      <th>1003</th>\n",
       "      <td>2024-03-23 00:57:00</td>\n",
       "      <td>4.9498285, -73.9469491</td>\n",
       "      <td>Autopista Norte, Tocancipá, Sabana Centro, RAP...</td>\n",
       "      <td>4.949828</td>\n",
       "      <td>-73.946949</td>\n",
       "      <td>2024-03-23</td>\n",
       "      <td>2024-03-23 00:57:00</td>\n",
       "      <td>2024-03-23 15:00:00</td>\n",
       "      <td>0 days 14:03:00</td>\n",
       "    </tr>\n",
       "    <tr>\n",
       "      <th>1004</th>\n",
       "      <td>2024-03-26 00:43:00</td>\n",
       "      <td>4.7037785, -74.0540271</td>\n",
       "      <td>Avenida Carrera 45, UPZs de Bogotá, Localidad ...</td>\n",
       "      <td>4.703779</td>\n",
       "      <td>-74.054027</td>\n",
       "      <td>2024-03-26</td>\n",
       "      <td>2024-03-26 00:43:00</td>\n",
       "      <td>2024-03-26 22:57:00</td>\n",
       "      <td>0 days 22:14:00</td>\n",
       "    </tr>\n",
       "  </tbody>\n",
       "</table>\n",
       "<p>1005 rows × 9 columns</p>\n",
       "</div>"
      ],
      "text/plain": [
       "               timestamp                   point  \\\n",
       "0    2014-06-11 21:16:00  4.7538459, -74.1018654   \n",
       "1    2014-06-14 17:36:00  4.7528523, -74.0988562   \n",
       "2    2014-06-18 00:51:00  4.7538915, -74.1018722   \n",
       "3    2014-06-25 05:34:00  4.7539288, -74.1025566   \n",
       "4    2014-07-02 22:35:00  4.7539656, -74.1018835   \n",
       "...                  ...                     ...   \n",
       "1000 2024-03-14 10:28:00  4.7541006, -74.1027117   \n",
       "1001 2024-03-17 11:35:00  6.0162505, -75.1580961   \n",
       "1002 2024-03-20 10:20:00  7.1610454, -73.1373577   \n",
       "1003 2024-03-23 00:57:00  4.9498285, -73.9469491   \n",
       "1004 2024-03-26 00:43:00  4.7037785, -74.0540271   \n",
       "\n",
       "                                                  place  latitude  longitude  \\\n",
       "0     Calle 151, Tibabuyes, UPZs de Bogotá, Localida...  4.753846 -74.101865   \n",
       "1     Calle 151, Tibabuyes, UPZs de Bogotá, Localida...  4.752852 -74.098856   \n",
       "2     Calle 151, Tibabuyes, UPZs de Bogotá, Localida...  4.753891 -74.101872   \n",
       "3     Carrera 115, Almendros, UPZs de Bogotá, Locali...  4.753929 -74.102557   \n",
       "4     Calle 151, Tibabuyes, UPZs de Bogotá, Localida...  4.753966 -74.101883   \n",
       "...                                                 ...       ...        ...   \n",
       "1000  Calle 150C, Almendros, UPZs de Bogotá, Localid...  4.754101 -74.102712   \n",
       "1001  Autopista Medellín - Bogotá, La Piñuela, Cocor...  6.016250 -75.158096   \n",
       "1002  Madrid, Comuna 1 - Norte, Perímetro Urbano Buc...  7.161045 -73.137358   \n",
       "1003  Autopista Norte, Tocancipá, Sabana Centro, RAP...  4.949828 -73.946949   \n",
       "1004  Avenida Carrera 45, UPZs de Bogotá, Localidad ...  4.703779 -74.054027   \n",
       "\n",
       "          fecha              inicio                 fin        recorrido  \n",
       "0    2014-06-11 2014-06-11 21:16:00 2014-06-11 21:16:00  0 days 00:00:00  \n",
       "1    2014-06-14 2014-06-14 17:36:00 2014-06-14 18:34:00  0 days 00:58:00  \n",
       "2    2014-06-18 2014-06-18 00:51:00 2014-06-18 22:21:00  0 days 21:30:00  \n",
       "3    2014-06-25 2014-06-25 05:34:00 2014-06-25 20:26:00  0 days 14:52:00  \n",
       "4    2014-07-02 2014-07-02 22:35:00 2014-07-02 22:35:00  0 days 00:00:00  \n",
       "...         ...                 ...                 ...              ...  \n",
       "1000 2024-03-14 2024-03-14 10:28:00 2024-03-14 23:46:00  0 days 13:18:00  \n",
       "1001 2024-03-17 2024-03-17 11:35:00 2024-03-17 19:43:00  0 days 08:08:00  \n",
       "1002 2024-03-20 2024-03-20 10:20:00 2024-03-20 18:35:00  0 days 08:15:00  \n",
       "1003 2024-03-23 2024-03-23 00:57:00 2024-03-23 15:00:00  0 days 14:03:00  \n",
       "1004 2024-03-26 2024-03-26 00:43:00 2024-03-26 22:57:00  0 days 22:14:00  \n",
       "\n",
       "[1005 rows x 9 columns]"
      ]
     },
     "execution_count": 165,
     "metadata": {},
     "output_type": "execute_result"
    }
   ],
   "source": [
    "# %%\n",
    "\n",
    "df_visits_business_days"
   ]
  },
  {
   "cell_type": "markdown",
   "id": "e0043d7d-40df-4149-ad46-bb8642c61782",
   "metadata": {},
   "source": [
    "# %% [markdown]\n",
    "\n",
    " ## visits with business days data"
   ]
  },
  {
   "cell_type": "code",
   "execution_count": null,
   "id": "ef474011-bfc5-4018-a6f9-4c54492ea627",
   "metadata": {},
   "outputs": [
    {
     "name": "stdout",
     "output_type": "stream",
     "text": [
      "<class 'pandas.core.frame.DataFrame'>\n",
      "RangeIndex: 1005 entries, 0 to 1004\n",
      "Data columns (total 9 columns):\n",
      " #   Column     Non-Null Count  Dtype         \n",
      "---  ------     --------------  -----         \n",
      " 0   timestamp  1005 non-null   datetime64[ns]\n",
      " 1   point      1005 non-null   object        \n",
      " 2   place      1005 non-null   object        \n",
      " 3   latitude   1005 non-null   float64       \n",
      " 4   longitude  1005 non-null   float64       \n",
      " 5   fecha      1005 non-null   datetime64[ns]\n",
      " 6   inicio     1005 non-null   datetime64[ns]\n",
      " 7   fin        1005 non-null   datetime64[ns]\n",
      " 8   recorrido  1005 non-null   object        \n",
      "dtypes: datetime64[ns](4), float64(2), object(3)\n",
      "memory usage: 70.8+ KB\n"
     ]
    }
   ],
   "source": [
    "df_visits_business_days.info()"
   ]
  },
  {
   "cell_type": "code",
   "execution_count": null,
   "id": "e06f9b09-457c-462d-b499-c3cd8bf09ee7",
   "metadata": {},
   "outputs": [
    {
     "data": {
      "text/html": [
       "<div>\n",
       "<style scoped>\n",
       "    .dataframe tbody tr th:only-of-type {\n",
       "        vertical-align: middle;\n",
       "    }\n",
       "\n",
       "    .dataframe tbody tr th {\n",
       "        vertical-align: top;\n",
       "    }\n",
       "\n",
       "    .dataframe thead th {\n",
       "        text-align: right;\n",
       "    }\n",
       "</style>\n",
       "<table border=\"1\" class=\"dataframe\">\n",
       "  <thead>\n",
       "    <tr style=\"text-align: right;\">\n",
       "      <th></th>\n",
       "      <th>count</th>\n",
       "      <th>mean</th>\n",
       "      <th>min</th>\n",
       "      <th>25%</th>\n",
       "      <th>50%</th>\n",
       "      <th>75%</th>\n",
       "      <th>max</th>\n",
       "      <th>std</th>\n",
       "    </tr>\n",
       "  </thead>\n",
       "  <tbody>\n",
       "    <tr>\n",
       "      <th>timestamp</th>\n",
       "      <td>1005</td>\n",
       "      <td>2019-01-13 11:01:39.820895488</td>\n",
       "      <td>2014-06-11 21:16:00</td>\n",
       "      <td>2016-10-08 05:54:00</td>\n",
       "      <td>2018-07-24 00:00:00</td>\n",
       "      <td>2021-07-17 00:02:00</td>\n",
       "      <td>2024-03-26 00:43:00</td>\n",
       "      <td>NaN</td>\n",
       "    </tr>\n",
       "    <tr>\n",
       "      <th>latitude</th>\n",
       "      <td>1005.0</td>\n",
       "      <td>5.198143</td>\n",
       "      <td>2.707344</td>\n",
       "      <td>4.753512</td>\n",
       "      <td>4.753939</td>\n",
       "      <td>4.947056</td>\n",
       "      <td>11.249607</td>\n",
       "      <td>1.489088</td>\n",
       "    </tr>\n",
       "    <tr>\n",
       "      <th>longitude</th>\n",
       "      <td>1005.0</td>\n",
       "      <td>-74.146434</td>\n",
       "      <td>-76.541805</td>\n",
       "      <td>-74.103257</td>\n",
       "      <td>-74.101899</td>\n",
       "      <td>-74.050668</td>\n",
       "      <td>-72.470483</td>\n",
       "      <td>0.476413</td>\n",
       "    </tr>\n",
       "    <tr>\n",
       "      <th>fecha</th>\n",
       "      <td>1005</td>\n",
       "      <td>2019-01-13 05:22:23.283582208</td>\n",
       "      <td>2014-06-11 00:00:00</td>\n",
       "      <td>2016-10-08 00:00:00</td>\n",
       "      <td>2018-07-24 00:00:00</td>\n",
       "      <td>2021-07-17 00:00:00</td>\n",
       "      <td>2024-03-26 00:00:00</td>\n",
       "      <td>NaN</td>\n",
       "    </tr>\n",
       "    <tr>\n",
       "      <th>inicio</th>\n",
       "      <td>1005</td>\n",
       "      <td>2019-01-13 11:01:39.820895488</td>\n",
       "      <td>2014-06-11 21:16:00</td>\n",
       "      <td>2016-10-08 05:54:00</td>\n",
       "      <td>2018-07-24 00:00:00</td>\n",
       "      <td>2021-07-17 00:02:00</td>\n",
       "      <td>2024-03-26 00:43:00</td>\n",
       "      <td>NaN</td>\n",
       "    </tr>\n",
       "    <tr>\n",
       "      <th>fin</th>\n",
       "      <td>1005</td>\n",
       "      <td>2019-01-14 02:32:35.761193984</td>\n",
       "      <td>2014-06-11 21:16:00</td>\n",
       "      <td>2016-10-08 21:48:00</td>\n",
       "      <td>2018-07-24 23:59:00</td>\n",
       "      <td>2021-07-17 18:40:00</td>\n",
       "      <td>2024-03-26 22:57:00</td>\n",
       "      <td>NaN</td>\n",
       "    </tr>\n",
       "  </tbody>\n",
       "</table>\n",
       "</div>"
      ],
      "text/plain": [
       "            count                           mean                  min  \\\n",
       "timestamp    1005  2019-01-13 11:01:39.820895488  2014-06-11 21:16:00   \n",
       "latitude   1005.0                       5.198143             2.707344   \n",
       "longitude  1005.0                     -74.146434           -76.541805   \n",
       "fecha        1005  2019-01-13 05:22:23.283582208  2014-06-11 00:00:00   \n",
       "inicio       1005  2019-01-13 11:01:39.820895488  2014-06-11 21:16:00   \n",
       "fin          1005  2019-01-14 02:32:35.761193984  2014-06-11 21:16:00   \n",
       "\n",
       "                           25%                  50%                  75%  \\\n",
       "timestamp  2016-10-08 05:54:00  2018-07-24 00:00:00  2021-07-17 00:02:00   \n",
       "latitude              4.753512             4.753939             4.947056   \n",
       "longitude           -74.103257           -74.101899           -74.050668   \n",
       "fecha      2016-10-08 00:00:00  2018-07-24 00:00:00  2021-07-17 00:00:00   \n",
       "inicio     2016-10-08 05:54:00  2018-07-24 00:00:00  2021-07-17 00:02:00   \n",
       "fin        2016-10-08 21:48:00  2018-07-24 23:59:00  2021-07-17 18:40:00   \n",
       "\n",
       "                           max       std  \n",
       "timestamp  2024-03-26 00:43:00       NaN  \n",
       "latitude             11.249607  1.489088  \n",
       "longitude           -72.470483  0.476413  \n",
       "fecha      2024-03-26 00:00:00       NaN  \n",
       "inicio     2024-03-26 00:43:00       NaN  \n",
       "fin        2024-03-26 22:57:00       NaN  "
      ]
     },
     "execution_count": 167,
     "metadata": {},
     "output_type": "execute_result"
    }
   ],
   "source": [
    "# %%\n",
    "\n",
    "df_visits_business_days.describe().T"
   ]
  },
  {
   "cell_type": "code",
   "execution_count": null,
   "id": "9606a7c3-96cf-412d-af6c-96e07e0356e2",
   "metadata": {},
   "outputs": [
    {
     "data": {
      "text/plain": [
       "['point', 'place', 'recorrido']"
      ]
     },
     "execution_count": 168,
     "metadata": {},
     "output_type": "execute_result"
    }
   ],
   "source": [
    "# %%\n",
    "\n",
    "df_types_visits_business_days = pd.DataFrame(df_visits_business_days.dtypes)\n",
    "object_features_visits_business_days = df_types_visits_business_days[df_types_visits_business_days[0] == 'object'].index.to_list()\n",
    "object_features_visits_business_days"
   ]
  },
  {
   "cell_type": "code",
   "execution_count": null,
   "id": "b716e97c-47d2-418f-9263-6f5196035e68",
   "metadata": {},
   "outputs": [
    {
     "data": {
      "text/plain": [
       "['latitude', 'longitude']"
      ]
     },
     "execution_count": 169,
     "metadata": {},
     "output_type": "execute_result"
    }
   ],
   "source": [
    "# %%\n",
    "\n",
    "float_features_visits_business_days = df_types_visits_business_days[df_types_visits_business_days[0] == 'float64'].index.to_list()\n",
    "float_features_visits_business_days"
   ]
  },
  {
   "cell_type": "code",
   "execution_count": null,
   "id": "e2d04285-1362-451e-a89e-f26d8b73151d",
   "metadata": {},
   "outputs": [
    {
     "data": {
      "text/plain": [
       "['timestamp', 'fecha', 'inicio', 'fin']"
      ]
     },
     "execution_count": 170,
     "metadata": {},
     "output_type": "execute_result"
    }
   ],
   "source": [
    "# %%\n",
    "\n",
    "date_features_visits_business_days = df_types_visits_business_days[df_types_visits_business_days[0] == 'datetime64[ns]'].index.to_list()\n",
    "date_features_visits_business_days"
   ]
  },
  {
   "cell_type": "code",
   "execution_count": null,
   "id": "ff8e3491-ea18-4b41-b1d3-f0183fa32aeb",
   "metadata": {},
   "outputs": [
    {
     "data": {
      "text/html": [
       "<div>\n",
       "<style scoped>\n",
       "    .dataframe tbody tr th:only-of-type {\n",
       "        vertical-align: middle;\n",
       "    }\n",
       "\n",
       "    .dataframe tbody tr th {\n",
       "        vertical-align: top;\n",
       "    }\n",
       "\n",
       "    .dataframe thead th {\n",
       "        text-align: right;\n",
       "    }\n",
       "</style>\n",
       "<table border=\"1\" class=\"dataframe\">\n",
       "  <thead>\n",
       "    <tr style=\"text-align: right;\">\n",
       "      <th></th>\n",
       "      <th>count</th>\n",
       "      <th>unique</th>\n",
       "      <th>top</th>\n",
       "      <th>freq</th>\n",
       "    </tr>\n",
       "  </thead>\n",
       "  <tbody>\n",
       "    <tr>\n",
       "      <th>point</th>\n",
       "      <td>1005</td>\n",
       "      <td>843</td>\n",
       "      <td>4.7538511, -74.0988525</td>\n",
       "      <td>23</td>\n",
       "    </tr>\n",
       "    <tr>\n",
       "      <th>place</th>\n",
       "      <td>1005</td>\n",
       "      <td>312</td>\n",
       "      <td>Calle 151, Tibabuyes, UPZs de Bogotá, Localida...</td>\n",
       "      <td>165</td>\n",
       "    </tr>\n",
       "    <tr>\n",
       "      <th>recorrido</th>\n",
       "      <td>1005</td>\n",
       "      <td>596</td>\n",
       "      <td>0 days 00:00:00</td>\n",
       "      <td>16</td>\n",
       "    </tr>\n",
       "  </tbody>\n",
       "</table>\n",
       "</div>"
      ],
      "text/plain": [
       "          count unique                                                top freq\n",
       "point      1005    843                             4.7538511, -74.0988525   23\n",
       "place      1005    312  Calle 151, Tibabuyes, UPZs de Bogotá, Localida...  165\n",
       "recorrido  1005    596                                    0 days 00:00:00   16"
      ]
     },
     "execution_count": 171,
     "metadata": {},
     "output_type": "execute_result"
    }
   ],
   "source": [
    "# %%\n",
    "\n",
    "df_visits_business_days[object_features_visits_business_days].describe(include='all').T"
   ]
  },
  {
   "cell_type": "markdown",
   "id": "58ac661f-20be-49e5-be5a-0a870e705bbb",
   "metadata": {},
   "source": [
    "# %% [markdown]\n",
    "\n",
    " ## Save data"
   ]
  },
  {
   "cell_type": "code",
   "execution_count": null,
   "id": "76987623-89f9-43af-8459-2118a78c5b2d",
   "metadata": {},
   "outputs": [],
   "source": [
    "df_visits_business_days.to_csv('../backend/data/visitas_business_days.csv', index=False)"
   ]
  }
 ],
 "metadata": {
  "language_info": {
   "codemirror_mode": {
    "name": "ipython",
    "version": 3
   },
   "file_extension": ".py",
   "mimetype": "text/x-python",
   "name": "python",
   "nbconvert_exporter": "python",
   "pygments_lexer": "ipython3",
   "version": 3
  }
 },
 "nbformat": 4,
 "nbformat_minor": 2
}
