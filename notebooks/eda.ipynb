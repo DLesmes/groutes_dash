{
 "cells": [
  {
   "cell_type": "code",
   "execution_count": null,
   "id": "dd451da9-0fb2-4388-956f-5ec2343cd694",
   "metadata": {},
   "outputs": [],
   "source": [
    "\"\"\" EDA for the visits data \"\"\"\n",
    "# %%\n",
    "import pandas as pd\n",
    "from datetime import date"
   ]
  },
  {
   "cell_type": "markdown",
   "id": "8a97feed-aa2f-488a-9ee9-ed524c1b3388",
   "metadata": {},
   "source": [
    "# %% [markdown]\n",
    "\n",
    " ## Load data"
   ]
  },
  {
   "cell_type": "code",
   "execution_count": null,
   "id": "da0724d6-af5e-40f5-8efe-7d9656a42451",
   "metadata": {},
   "outputs": [],
   "source": [
    "df_visits = pd.read_csv('../backend/data/99-visitas_uriel.csv')\n",
    "df_business_days = pd.read_csv('../backend/data/resultados_uriel_mazabuel.csv') "
   ]
  },
  {
   "cell_type": "markdown",
   "id": "e58e4b78-8878-43f9-a988-3b50c164ec15",
   "metadata": {},
   "source": [
    "# %% [markdown]\n",
    "\n",
    " ## visits data"
   ]
  },
  {
   "cell_type": "code",
   "execution_count": null,
   "id": "b6c6412a-7870-47ac-8155-fa8409f29085",
   "metadata": {},
   "outputs": [
    {
     "name": "stdout",
     "output_type": "stream",
     "text": [
      "<class 'pandas.core.frame.DataFrame'>\n",
      "RangeIndex: 367379 entries, 0 to 367378\n",
      "Data columns (total 3 columns):\n",
      " #   Column     Non-Null Count   Dtype \n",
      "---  ------     --------------   ----- \n",
      " 0   timestamp  367379 non-null  object\n",
      " 1   point      367379 non-null  object\n",
      " 2   place      367379 non-null  object\n",
      "dtypes: object(3)\n",
      "memory usage: 8.4+ MB\n"
     ]
    }
   ],
   "source": [
    "df_visits.info()"
   ]
  },
  {
   "cell_type": "code",
   "execution_count": null,
   "id": "8672f803-6e01-45f7-abbe-ce531afa17a2",
   "metadata": {},
   "outputs": [
    {
     "name": "stdout",
     "output_type": "stream",
     "text": [
      "<class 'pandas.core.frame.DataFrame'>\n",
      "RangeIndex: 367379 entries, 0 to 367378\n",
      "Data columns (total 6 columns):\n",
      " #   Column     Non-Null Count   Dtype         \n",
      "---  ------     --------------   -----         \n",
      " 0   timestamp  367379 non-null  datetime64[ns]\n",
      " 1   point      367379 non-null  object        \n",
      " 2   place      367379 non-null  object        \n",
      " 3   date       367379 non-null  object        \n",
      " 4   latitude   367379 non-null  float64       \n",
      " 5   longitude  367379 non-null  float64       \n",
      "dtypes: datetime64[ns](1), float64(2), object(3)\n",
      "memory usage: 16.8+ MB\n"
     ]
    }
   ],
   "source": [
    "# %%\n",
    "\n",
    "df_visits['timestamp'] = pd.to_datetime(df_visits['timestamp']).dt.tz_localize(None)\n",
    "df_visits['date'] = pd.to_datetime(df_visits['timestamp']).dt.date\n",
    "df_visits[['latitude','longitude']] = df_visits['point'].str.split(',', expand=True).astype(float)\n",
    "df_visits.info()"
   ]
  },
  {
   "cell_type": "code",
   "execution_count": null,
   "id": "57b2c873-6b38-45ba-8f3e-b84693bd811e",
   "metadata": {},
   "outputs": [
    {
     "data": {
      "text/html": [
       "<div>\n",
       "<style scoped>\n",
       "    .dataframe tbody tr th:only-of-type {\n",
       "        vertical-align: middle;\n",
       "    }\n",
       "\n",
       "    .dataframe tbody tr th {\n",
       "        vertical-align: top;\n",
       "    }\n",
       "\n",
       "    .dataframe thead th {\n",
       "        text-align: right;\n",
       "    }\n",
       "</style>\n",
       "<table border=\"1\" class=\"dataframe\">\n",
       "  <thead>\n",
       "    <tr style=\"text-align: right;\">\n",
       "      <th></th>\n",
       "      <th>timestamp</th>\n",
       "      <th>point</th>\n",
       "      <th>place</th>\n",
       "      <th>date</th>\n",
       "      <th>latitude</th>\n",
       "      <th>longitude</th>\n",
       "    </tr>\n",
       "  </thead>\n",
       "  <tbody>\n",
       "    <tr>\n",
       "      <th>0</th>\n",
       "      <td>2014-06-04 22:24:00</td>\n",
       "      <td>4.753851, -74.1019103</td>\n",
       "      <td>Calle 151, Tibabuyes, UPZs de Bogotá, Localida...</td>\n",
       "      <td>2014-06-04</td>\n",
       "      <td>4.753851</td>\n",
       "      <td>-74.101910</td>\n",
       "    </tr>\n",
       "    <tr>\n",
       "      <th>1</th>\n",
       "      <td>2014-06-06 07:37:00</td>\n",
       "      <td>4.7579942, -74.1059858</td>\n",
       "      <td>Carrera 136A, Suba Compartir, UPZs de Bogotá, ...</td>\n",
       "      <td>2014-06-06</td>\n",
       "      <td>4.757994</td>\n",
       "      <td>-74.105986</td>\n",
       "    </tr>\n",
       "    <tr>\n",
       "      <th>2</th>\n",
       "      <td>2014-06-06 08:42:00</td>\n",
       "      <td>4.6735214, -74.1452833</td>\n",
       "      <td>Carrera 100, Fontibón, UPZs de Bogotá, Localid...</td>\n",
       "      <td>2014-06-06</td>\n",
       "      <td>4.673521</td>\n",
       "      <td>-74.145283</td>\n",
       "    </tr>\n",
       "    <tr>\n",
       "      <th>3</th>\n",
       "      <td>2014-06-06 11:36:00</td>\n",
       "      <td>4.6162576, -74.1061934</td>\n",
       "      <td>Calle 5C, Primavera Occidental, UPZs de Bogotá...</td>\n",
       "      <td>2014-06-06</td>\n",
       "      <td>4.616258</td>\n",
       "      <td>-74.106193</td>\n",
       "    </tr>\n",
       "    <tr>\n",
       "      <th>4</th>\n",
       "      <td>2014-06-06 11:37:00</td>\n",
       "      <td>4.613875, -74.104923</td>\n",
       "      <td>Avenida Calle 6, Primavera Occidental, UPZs de...</td>\n",
       "      <td>2014-06-06</td>\n",
       "      <td>4.613875</td>\n",
       "      <td>-74.104923</td>\n",
       "    </tr>\n",
       "  </tbody>\n",
       "</table>\n",
       "</div>"
      ],
      "text/plain": [
       "            timestamp                   point  \\\n",
       "0 2014-06-04 22:24:00   4.753851, -74.1019103   \n",
       "1 2014-06-06 07:37:00  4.7579942, -74.1059858   \n",
       "2 2014-06-06 08:42:00  4.6735214, -74.1452833   \n",
       "3 2014-06-06 11:36:00  4.6162576, -74.1061934   \n",
       "4 2014-06-06 11:37:00    4.613875, -74.104923   \n",
       "\n",
       "                                               place        date  latitude  \\\n",
       "0  Calle 151, Tibabuyes, UPZs de Bogotá, Localida...  2014-06-04  4.753851   \n",
       "1  Carrera 136A, Suba Compartir, UPZs de Bogotá, ...  2014-06-06  4.757994   \n",
       "2  Carrera 100, Fontibón, UPZs de Bogotá, Localid...  2014-06-06  4.673521   \n",
       "3  Calle 5C, Primavera Occidental, UPZs de Bogotá...  2014-06-06  4.616258   \n",
       "4  Avenida Calle 6, Primavera Occidental, UPZs de...  2014-06-06  4.613875   \n",
       "\n",
       "   longitude  \n",
       "0 -74.101910  \n",
       "1 -74.105986  \n",
       "2 -74.145283  \n",
       "3 -74.106193  \n",
       "4 -74.104923  "
      ]
     },
     "execution_count": 139,
     "metadata": {},
     "output_type": "execute_result"
    }
   ],
   "source": [
    "# %%\n",
    "\n",
    "df_visits.head()"
   ]
  },
  {
   "cell_type": "code",
   "execution_count": null,
   "id": "8963986d-c216-4d65-a0f4-617d02e491c2",
   "metadata": {},
   "outputs": [
    {
     "data": {
      "text/html": [
       "<div>\n",
       "<style scoped>\n",
       "    .dataframe tbody tr th:only-of-type {\n",
       "        vertical-align: middle;\n",
       "    }\n",
       "\n",
       "    .dataframe tbody tr th {\n",
       "        vertical-align: top;\n",
       "    }\n",
       "\n",
       "    .dataframe thead th {\n",
       "        text-align: right;\n",
       "    }\n",
       "</style>\n",
       "<table border=\"1\" class=\"dataframe\">\n",
       "  <thead>\n",
       "    <tr style=\"text-align: right;\">\n",
       "      <th></th>\n",
       "      <th>count</th>\n",
       "      <th>mean</th>\n",
       "      <th>min</th>\n",
       "      <th>25%</th>\n",
       "      <th>50%</th>\n",
       "      <th>75%</th>\n",
       "      <th>max</th>\n",
       "      <th>std</th>\n",
       "    </tr>\n",
       "  </thead>\n",
       "  <tbody>\n",
       "    <tr>\n",
       "      <th>timestamp</th>\n",
       "      <td>367379</td>\n",
       "      <td>2021-02-25 03:11:49.806276352</td>\n",
       "      <td>2014-06-04 22:24:00</td>\n",
       "      <td>2019-03-07 18:32:00</td>\n",
       "      <td>2021-11-11 19:51:00</td>\n",
       "      <td>2023-02-21 12:21:30</td>\n",
       "      <td>2025-01-07 11:33:00</td>\n",
       "      <td>NaN</td>\n",
       "    </tr>\n",
       "    <tr>\n",
       "      <th>latitude</th>\n",
       "      <td>367379.0</td>\n",
       "      <td>5.268799</td>\n",
       "      <td>0.799459</td>\n",
       "      <td>4.627612</td>\n",
       "      <td>4.80056</td>\n",
       "      <td>5.521675</td>\n",
       "      <td>22.187282</td>\n",
       "      <td>1.611471</td>\n",
       "    </tr>\n",
       "    <tr>\n",
       "      <th>longitude</th>\n",
       "      <td>367379.0</td>\n",
       "      <td>-74.280175</td>\n",
       "      <td>-81.732719</td>\n",
       "      <td>-74.539188</td>\n",
       "      <td>-74.099587</td>\n",
       "      <td>-73.946177</td>\n",
       "      <td>113.554035</td>\n",
       "      <td>0.875201</td>\n",
       "    </tr>\n",
       "  </tbody>\n",
       "</table>\n",
       "</div>"
      ],
      "text/plain": [
       "              count                           mean                  min  \\\n",
       "timestamp    367379  2021-02-25 03:11:49.806276352  2014-06-04 22:24:00   \n",
       "latitude   367379.0                       5.268799             0.799459   \n",
       "longitude  367379.0                     -74.280175           -81.732719   \n",
       "\n",
       "                           25%                  50%                  75%  \\\n",
       "timestamp  2019-03-07 18:32:00  2021-11-11 19:51:00  2023-02-21 12:21:30   \n",
       "latitude              4.627612              4.80056             5.521675   \n",
       "longitude           -74.539188           -74.099587           -73.946177   \n",
       "\n",
       "                           max       std  \n",
       "timestamp  2025-01-07 11:33:00       NaN  \n",
       "latitude             22.187282  1.611471  \n",
       "longitude           113.554035  0.875201  "
      ]
     },
     "execution_count": 140,
     "metadata": {},
     "output_type": "execute_result"
    }
   ],
   "source": [
    "# %%\n",
    "\n",
    "df_visits.describe().T"
   ]
  },
  {
   "cell_type": "code",
   "execution_count": null,
   "id": "dba2bf3a-70ff-4de5-b2f9-ad9aaff9e3db",
   "metadata": {},
   "outputs": [
    {
     "data": {
      "text/plain": [
       "['point', 'place', 'date']"
      ]
     },
     "execution_count": 141,
     "metadata": {},
     "output_type": "execute_result"
    }
   ],
   "source": [
    "# %%\n",
    "\n",
    "df_types_visits = pd.DataFrame(df_visits.dtypes)\n",
    "object_features_visits = df_types_visits[df_types_visits[0] == 'object'].index.to_list()\n",
    "object_features_visits"
   ]
  },
  {
   "cell_type": "code",
   "execution_count": null,
   "id": "f72d0938-aa74-4594-8107-8f5ade9b79ee",
   "metadata": {},
   "outputs": [
    {
     "data": {
      "text/plain": [
       "['latitude', 'longitude']"
      ]
     },
     "execution_count": 142,
     "metadata": {},
     "output_type": "execute_result"
    }
   ],
   "source": [
    "# %%\n",
    "\n",
    "float_features_visits = df_types_visits[df_types_visits[0] == 'float64'].index.to_list()\n",
    "float_features_visits"
   ]
  },
  {
   "cell_type": "code",
   "execution_count": null,
   "id": "225e8d67-235b-4b43-a652-ed20cee6b44d",
   "metadata": {},
   "outputs": [
    {
     "data": {
      "text/plain": [
       "['timestamp']"
      ]
     },
     "execution_count": 143,
     "metadata": {},
     "output_type": "execute_result"
    }
   ],
   "source": [
    "# %%\n",
    "\n",
    "date_features_visits = df_types_visits[df_types_visits[0] == 'datetime64[ns]'].index.to_list()\n",
    "date_features_visits"
   ]
  },
  {
   "cell_type": "code",
   "execution_count": null,
   "id": "626d3185-6101-4fb9-89a4-99bfbf3bb649",
   "metadata": {},
   "outputs": [
    {
     "data": {
      "text/html": [
       "<div>\n",
       "<style scoped>\n",
       "    .dataframe tbody tr th:only-of-type {\n",
       "        vertical-align: middle;\n",
       "    }\n",
       "\n",
       "    .dataframe tbody tr th {\n",
       "        vertical-align: top;\n",
       "    }\n",
       "\n",
       "    .dataframe thead th {\n",
       "        text-align: right;\n",
       "    }\n",
       "</style>\n",
       "<table border=\"1\" class=\"dataframe\">\n",
       "  <thead>\n",
       "    <tr style=\"text-align: right;\">\n",
       "      <th></th>\n",
       "      <th>count</th>\n",
       "      <th>unique</th>\n",
       "      <th>top</th>\n",
       "      <th>freq</th>\n",
       "    </tr>\n",
       "  </thead>\n",
       "  <tbody>\n",
       "    <tr>\n",
       "      <th>point</th>\n",
       "      <td>367379</td>\n",
       "      <td>314776</td>\n",
       "      <td>4.7532264, -74.0988525</td>\n",
       "      <td>326</td>\n",
       "    </tr>\n",
       "    <tr>\n",
       "      <th>place</th>\n",
       "      <td>367379</td>\n",
       "      <td>20538</td>\n",
       "      <td>Autopista Norte, Tocancipá, Sabana Centro, RAP...</td>\n",
       "      <td>16438</td>\n",
       "    </tr>\n",
       "    <tr>\n",
       "      <th>date</th>\n",
       "      <td>367379</td>\n",
       "      <td>3408</td>\n",
       "      <td>2021-12-24</td>\n",
       "      <td>763</td>\n",
       "    </tr>\n",
       "  </tbody>\n",
       "</table>\n",
       "</div>"
      ],
      "text/plain": [
       "        count  unique                                                top  \\\n",
       "point  367379  314776                             4.7532264, -74.0988525   \n",
       "place  367379   20538  Autopista Norte, Tocancipá, Sabana Centro, RAP...   \n",
       "date   367379    3408                                         2021-12-24   \n",
       "\n",
       "        freq  \n",
       "point    326  \n",
       "place  16438  \n",
       "date     763  "
      ]
     },
     "execution_count": 144,
     "metadata": {},
     "output_type": "execute_result"
    }
   ],
   "source": [
    "# %%\n",
    "\n",
    "df_visits[object_features_visits].describe(include='all').T"
   ]
  },
  {
   "cell_type": "markdown",
   "id": "12fa5b6e-34db-46be-847e-2f45f50760af",
   "metadata": {},
   "source": [
    "# %% [markdown]\n",
    "\n",
    " ## business days data"
   ]
  },
  {
   "cell_type": "code",
   "execution_count": null,
   "id": "25ff3582-1e45-4951-8693-d0f743918255",
   "metadata": {},
   "outputs": [
    {
     "name": "stdout",
     "output_type": "stream",
     "text": [
      "<class 'pandas.core.frame.DataFrame'>\n",
      "RangeIndex: 894 entries, 0 to 893\n",
      "Data columns (total 4 columns):\n",
      " #   Column     Non-Null Count  Dtype \n",
      "---  ------     --------------  ----- \n",
      " 0   fecha      894 non-null    object\n",
      " 1   inicio     894 non-null    object\n",
      " 2   fin        894 non-null    object\n",
      " 3   recorrido  894 non-null    object\n",
      "dtypes: object(4)\n",
      "memory usage: 28.1+ KB\n"
     ]
    }
   ],
   "source": [
    "df_business_days.info()"
   ]
  },
  {
   "cell_type": "code",
   "execution_count": null,
   "id": "395a0253-4a80-4a47-bfb5-bc6e994a7319",
   "metadata": {},
   "outputs": [],
   "source": [
    "# %%\n",
    "\n",
    "df_business_days['fecha'] = pd.to_datetime(df_business_days['fecha'])\n",
    "df_business_days['inicio'] = pd.to_datetime(df_business_days['inicio'])\n",
    "df_business_days['fin'] = pd.to_datetime(df_business_days['fin'])"
   ]
  },
  {
   "cell_type": "code",
   "execution_count": null,
   "id": "a5f2cdf2-0dff-4339-b07c-8f4c1ee15c7d",
   "metadata": {},
   "outputs": [
    {
     "name": "stdout",
     "output_type": "stream",
     "text": [
      "<class 'pandas.core.frame.DataFrame'>\n",
      "RangeIndex: 894 entries, 0 to 893\n",
      "Data columns (total 4 columns):\n",
      " #   Column     Non-Null Count  Dtype         \n",
      "---  ------     --------------  -----         \n",
      " 0   fecha      894 non-null    datetime64[ns]\n",
      " 1   inicio     894 non-null    datetime64[ns]\n",
      " 2   fin        894 non-null    datetime64[ns]\n",
      " 3   recorrido  894 non-null    object        \n",
      "dtypes: datetime64[ns](3), object(1)\n",
      "memory usage: 28.1+ KB\n"
     ]
    }
   ],
   "source": [
    "# %%\n",
    "\n",
    "df_business_days.info()"
   ]
  },
  {
   "cell_type": "code",
   "execution_count": null,
   "id": "a92d4dfc-4d3d-4242-855d-a1ecf5c71836",
   "metadata": {},
   "outputs": [
    {
     "data": {
      "text/html": [
       "<div>\n",
       "<style scoped>\n",
       "    .dataframe tbody tr th:only-of-type {\n",
       "        vertical-align: middle;\n",
       "    }\n",
       "\n",
       "    .dataframe tbody tr th {\n",
       "        vertical-align: top;\n",
       "    }\n",
       "\n",
       "    .dataframe thead th {\n",
       "        text-align: right;\n",
       "    }\n",
       "</style>\n",
       "<table border=\"1\" class=\"dataframe\">\n",
       "  <thead>\n",
       "    <tr style=\"text-align: right;\">\n",
       "      <th></th>\n",
       "      <th>fecha</th>\n",
       "      <th>inicio</th>\n",
       "      <th>fin</th>\n",
       "      <th>recorrido</th>\n",
       "    </tr>\n",
       "  </thead>\n",
       "  <tbody>\n",
       "    <tr>\n",
       "      <th>0</th>\n",
       "      <td>2014-06-11</td>\n",
       "      <td>2014-06-11 21:16:00</td>\n",
       "      <td>2014-06-11 21:16:00</td>\n",
       "      <td>0 days 00:00:00</td>\n",
       "    </tr>\n",
       "    <tr>\n",
       "      <th>1</th>\n",
       "      <td>2014-06-14</td>\n",
       "      <td>2014-06-14 17:36:00</td>\n",
       "      <td>2014-06-14 18:34:00</td>\n",
       "      <td>0 days 00:58:00</td>\n",
       "    </tr>\n",
       "    <tr>\n",
       "      <th>2</th>\n",
       "      <td>2014-06-18</td>\n",
       "      <td>2014-06-18 00:51:00</td>\n",
       "      <td>2014-06-18 22:21:00</td>\n",
       "      <td>0 days 21:30:00</td>\n",
       "    </tr>\n",
       "    <tr>\n",
       "      <th>3</th>\n",
       "      <td>2014-06-25</td>\n",
       "      <td>2014-06-25 05:34:00</td>\n",
       "      <td>2014-06-25 20:26:00</td>\n",
       "      <td>0 days 14:52:00</td>\n",
       "    </tr>\n",
       "    <tr>\n",
       "      <th>4</th>\n",
       "      <td>2014-07-02</td>\n",
       "      <td>2014-07-02 22:35:00</td>\n",
       "      <td>2014-07-02 22:35:00</td>\n",
       "      <td>0 days 00:00:00</td>\n",
       "    </tr>\n",
       "  </tbody>\n",
       "</table>\n",
       "</div>"
      ],
      "text/plain": [
       "       fecha              inicio                 fin        recorrido\n",
       "0 2014-06-11 2014-06-11 21:16:00 2014-06-11 21:16:00  0 days 00:00:00\n",
       "1 2014-06-14 2014-06-14 17:36:00 2014-06-14 18:34:00  0 days 00:58:00\n",
       "2 2014-06-18 2014-06-18 00:51:00 2014-06-18 22:21:00  0 days 21:30:00\n",
       "3 2014-06-25 2014-06-25 05:34:00 2014-06-25 20:26:00  0 days 14:52:00\n",
       "4 2014-07-02 2014-07-02 22:35:00 2014-07-02 22:35:00  0 days 00:00:00"
      ]
     },
     "execution_count": 148,
     "metadata": {},
     "output_type": "execute_result"
    }
   ],
   "source": [
    "# %%\n",
    "\n",
    "df_business_days.head()"
   ]
  },
  {
   "cell_type": "code",
   "execution_count": null,
   "id": "d4d47931-118b-4855-8354-4d05b57fe146",
   "metadata": {},
   "outputs": [
    {
     "data": {
      "text/html": [
       "<div>\n",
       "<style scoped>\n",
       "    .dataframe tbody tr th:only-of-type {\n",
       "        vertical-align: middle;\n",
       "    }\n",
       "\n",
       "    .dataframe tbody tr th {\n",
       "        vertical-align: top;\n",
       "    }\n",
       "\n",
       "    .dataframe thead th {\n",
       "        text-align: right;\n",
       "    }\n",
       "</style>\n",
       "<table border=\"1\" class=\"dataframe\">\n",
       "  <thead>\n",
       "    <tr style=\"text-align: right;\">\n",
       "      <th></th>\n",
       "      <th>count</th>\n",
       "      <th>mean</th>\n",
       "      <th>min</th>\n",
       "      <th>25%</th>\n",
       "      <th>50%</th>\n",
       "      <th>75%</th>\n",
       "      <th>max</th>\n",
       "    </tr>\n",
       "  </thead>\n",
       "  <tbody>\n",
       "    <tr>\n",
       "      <th>fecha</th>\n",
       "      <td>894</td>\n",
       "      <td>2019-01-19 15:16:30.604026880</td>\n",
       "      <td>2014-06-11 00:00:00</td>\n",
       "      <td>2016-09-14 06:00:00</td>\n",
       "      <td>2018-07-27 00:00:00</td>\n",
       "      <td>2021-07-14 00:00:00</td>\n",
       "      <td>2024-03-26 00:00:00</td>\n",
       "    </tr>\n",
       "    <tr>\n",
       "      <th>inicio</th>\n",
       "      <td>894</td>\n",
       "      <td>2019-01-19 20:58:58.389261824</td>\n",
       "      <td>2014-06-11 21:16:00</td>\n",
       "      <td>2016-09-14 06:06:15</td>\n",
       "      <td>2018-07-27 02:35:30</td>\n",
       "      <td>2021-07-14 02:30:30</td>\n",
       "      <td>2024-03-26 00:43:00</td>\n",
       "    </tr>\n",
       "    <tr>\n",
       "      <th>fin</th>\n",
       "      <td>894</td>\n",
       "      <td>2019-01-20 12:24:45.906040320</td>\n",
       "      <td>2014-06-11 21:16:00</td>\n",
       "      <td>2016-09-15 05:21:00</td>\n",
       "      <td>2018-07-27 20:57:30</td>\n",
       "      <td>2021-07-14 23:53:15</td>\n",
       "      <td>2024-03-26 22:57:00</td>\n",
       "    </tr>\n",
       "  </tbody>\n",
       "</table>\n",
       "</div>"
      ],
      "text/plain": [
       "       count                           mean                  min  \\\n",
       "fecha    894  2019-01-19 15:16:30.604026880  2014-06-11 00:00:00   \n",
       "inicio   894  2019-01-19 20:58:58.389261824  2014-06-11 21:16:00   \n",
       "fin      894  2019-01-20 12:24:45.906040320  2014-06-11 21:16:00   \n",
       "\n",
       "                        25%                  50%                  75%  \\\n",
       "fecha   2016-09-14 06:00:00  2018-07-27 00:00:00  2021-07-14 00:00:00   \n",
       "inicio  2016-09-14 06:06:15  2018-07-27 02:35:30  2021-07-14 02:30:30   \n",
       "fin     2016-09-15 05:21:00  2018-07-27 20:57:30  2021-07-14 23:53:15   \n",
       "\n",
       "                        max  \n",
       "fecha   2024-03-26 00:00:00  \n",
       "inicio  2024-03-26 00:43:00  \n",
       "fin     2024-03-26 22:57:00  "
      ]
     },
     "execution_count": 149,
     "metadata": {},
     "output_type": "execute_result"
    }
   ],
   "source": [
    "# %%\n",
    "\n",
    "df_business_days.describe().T"
   ]
  },
  {
   "cell_type": "code",
   "execution_count": null,
   "id": "a2faa50c-df61-4bf8-a953-f0a88688f908",
   "metadata": {},
   "outputs": [
    {
     "data": {
      "text/plain": [
       "['recorrido']"
      ]
     },
     "execution_count": 150,
     "metadata": {},
     "output_type": "execute_result"
    }
   ],
   "source": [
    "# %%\n",
    "\n",
    "df_types_business_days = pd.DataFrame(df_business_days.dtypes)\n",
    "object_features_business_days = df_types_business_days[df_types_business_days[0] == 'object'].index.to_list()\n",
    "object_features_business_days"
   ]
  },
  {
   "cell_type": "code",
   "execution_count": null,
   "id": "a3882c6e-c7d5-4f54-9e39-287f169df9fa",
   "metadata": {},
   "outputs": [
    {
     "data": {
      "text/html": [
       "<div>\n",
       "<style scoped>\n",
       "    .dataframe tbody tr th:only-of-type {\n",
       "        vertical-align: middle;\n",
       "    }\n",
       "\n",
       "    .dataframe tbody tr th {\n",
       "        vertical-align: top;\n",
       "    }\n",
       "\n",
       "    .dataframe thead th {\n",
       "        text-align: right;\n",
       "    }\n",
       "</style>\n",
       "<table border=\"1\" class=\"dataframe\">\n",
       "  <thead>\n",
       "    <tr style=\"text-align: right;\">\n",
       "      <th></th>\n",
       "      <th>count</th>\n",
       "      <th>unique</th>\n",
       "      <th>top</th>\n",
       "      <th>freq</th>\n",
       "    </tr>\n",
       "  </thead>\n",
       "  <tbody>\n",
       "    <tr>\n",
       "      <th>recorrido</th>\n",
       "      <td>894</td>\n",
       "      <td>596</td>\n",
       "      <td>0 days 00:00:00</td>\n",
       "      <td>16</td>\n",
       "    </tr>\n",
       "  </tbody>\n",
       "</table>\n",
       "</div>"
      ],
      "text/plain": [
       "          count unique              top freq\n",
       "recorrido   894    596  0 days 00:00:00   16"
      ]
     },
     "execution_count": 151,
     "metadata": {},
     "output_type": "execute_result"
    }
   ],
   "source": [
    "# %%\n",
    "\n",
    "df_business_days[object_features_business_days].describe(include='all').T"
   ]
  },
  {
   "cell_type": "markdown",
   "id": "71e408de-2c86-4989-a06a-cea81cfc55fe",
   "metadata": {},
   "source": [
    "# %% [markdown]\n",
    "\n",
    " ## labeling business days"
   ]
  },
  {
   "cell_type": "code",
   "execution_count": null,
   "id": "5404706e-1552-4dce-bebd-20737f0b1e37",
   "metadata": {},
   "outputs": [
    {
     "data": {
      "text/plain": [
       "0         NaN\n",
       "1         NaN\n",
       "2         NaN\n",
       "3         NaN\n",
       "4         NaN\n",
       "         ... \n",
       "367374    NaN\n",
       "367375    NaN\n",
       "367376    NaN\n",
       "367377    NaN\n",
       "367378    NaN\n",
       "Name: business_day, Length: 367379, dtype: object"
      ]
     },
     "execution_count": 152,
     "metadata": {},
     "output_type": "execute_result"
    }
   ],
   "source": [
    "df_visits['business_day'] = False\n",
    "df_business_days['business_day'] = True\n",
    "df_business_days.index = df_business_days['inicio']\n",
    "dict_df_business_days = df_business_days.to_dict(orient='index')\n",
    "df_visits['business_day'].map(dict_df_business_days)"
   ]
  },
  {
   "cell_type": "code",
   "execution_count": null,
   "id": "6ff2cede-eb5b-4e81-b292-a061c96eb0c2",
   "metadata": {},
   "outputs": [
    {
     "name": "stdout",
     "output_type": "stream",
     "text": [
      "<class 'pandas.core.frame.DataFrame'>\n",
      "RangeIndex: 367379 entries, 0 to 367378\n",
      "Data columns (total 7 columns):\n",
      " #   Column        Non-Null Count   Dtype         \n",
      "---  ------        --------------   -----         \n",
      " 0   timestamp     367379 non-null  datetime64[ns]\n",
      " 1   point         367379 non-null  object        \n",
      " 2   place         367379 non-null  object        \n",
      " 3   date          367379 non-null  object        \n",
      " 4   latitude      367379 non-null  float64       \n",
      " 5   longitude     367379 non-null  float64       \n",
      " 6   business_day  367379 non-null  bool          \n",
      "dtypes: bool(1), datetime64[ns](1), float64(2), object(3)\n",
      "memory usage: 17.2+ MB\n"
     ]
    }
   ],
   "source": [
    "# %%\n",
    "\n",
    "df_visits.info()"
   ]
  },
  {
   "cell_type": "code",
   "execution_count": null,
   "id": "db251fe1-eaf7-42ca-ad6d-07d186136884",
   "metadata": {},
   "outputs": [
    {
     "data": {
      "text/html": [
       "<div>\n",
       "<style scoped>\n",
       "    .dataframe tbody tr th:only-of-type {\n",
       "        vertical-align: middle;\n",
       "    }\n",
       "\n",
       "    .dataframe tbody tr th {\n",
       "        vertical-align: top;\n",
       "    }\n",
       "\n",
       "    .dataframe thead th {\n",
       "        text-align: right;\n",
       "    }\n",
       "</style>\n",
       "<table border=\"1\" class=\"dataframe\">\n",
       "  <thead>\n",
       "    <tr style=\"text-align: right;\">\n",
       "      <th></th>\n",
       "      <th>count</th>\n",
       "      <th>mean</th>\n",
       "      <th>min</th>\n",
       "      <th>25%</th>\n",
       "      <th>50%</th>\n",
       "      <th>75%</th>\n",
       "      <th>max</th>\n",
       "      <th>std</th>\n",
       "    </tr>\n",
       "  </thead>\n",
       "  <tbody>\n",
       "    <tr>\n",
       "      <th>timestamp</th>\n",
       "      <td>367379</td>\n",
       "      <td>2021-02-25 03:11:49.806276352</td>\n",
       "      <td>2014-06-04 22:24:00</td>\n",
       "      <td>2019-03-07 18:32:00</td>\n",
       "      <td>2021-11-11 19:51:00</td>\n",
       "      <td>2023-02-21 12:21:30</td>\n",
       "      <td>2025-01-07 11:33:00</td>\n",
       "      <td>NaN</td>\n",
       "    </tr>\n",
       "    <tr>\n",
       "      <th>latitude</th>\n",
       "      <td>367379.0</td>\n",
       "      <td>5.268799</td>\n",
       "      <td>0.799459</td>\n",
       "      <td>4.627612</td>\n",
       "      <td>4.80056</td>\n",
       "      <td>5.521675</td>\n",
       "      <td>22.187282</td>\n",
       "      <td>1.611471</td>\n",
       "    </tr>\n",
       "    <tr>\n",
       "      <th>longitude</th>\n",
       "      <td>367379.0</td>\n",
       "      <td>-74.280175</td>\n",
       "      <td>-81.732719</td>\n",
       "      <td>-74.539188</td>\n",
       "      <td>-74.099587</td>\n",
       "      <td>-73.946177</td>\n",
       "      <td>113.554035</td>\n",
       "      <td>0.875201</td>\n",
       "    </tr>\n",
       "  </tbody>\n",
       "</table>\n",
       "</div>"
      ],
      "text/plain": [
       "              count                           mean                  min  \\\n",
       "timestamp    367379  2021-02-25 03:11:49.806276352  2014-06-04 22:24:00   \n",
       "latitude   367379.0                       5.268799             0.799459   \n",
       "longitude  367379.0                     -74.280175           -81.732719   \n",
       "\n",
       "                           25%                  50%                  75%  \\\n",
       "timestamp  2019-03-07 18:32:00  2021-11-11 19:51:00  2023-02-21 12:21:30   \n",
       "latitude              4.627612              4.80056             5.521675   \n",
       "longitude           -74.539188           -74.099587           -73.946177   \n",
       "\n",
       "                           max       std  \n",
       "timestamp  2025-01-07 11:33:00       NaN  \n",
       "latitude             22.187282  1.611471  \n",
       "longitude           113.554035  0.875201  "
      ]
     },
     "execution_count": 154,
     "metadata": {},
     "output_type": "execute_result"
    }
   ],
   "source": [
    "# %%\n",
    "\n",
    "df_visits.describe().T"
   ]
  },
  {
   "cell_type": "code",
   "execution_count": null,
   "id": "abc1377a-d745-46b3-b0da-54303ee2e345",
   "metadata": {},
   "outputs": [
    {
     "data": {
      "text/plain": [
       "['point', 'place', 'date']"
      ]
     },
     "execution_count": 155,
     "metadata": {},
     "output_type": "execute_result"
    }
   ],
   "source": [
    "# %%\n",
    "\n",
    "df_types_visits = pd.DataFrame(df_visits.dtypes)\n",
    "object_features_visits = df_types_visits[df_types_visits[0] == 'object'].index.to_list()\n",
    "object_features_visits"
   ]
  },
  {
   "cell_type": "code",
   "execution_count": null,
   "id": "d97b9194-733a-4c4c-8443-f8472cc855df",
   "metadata": {},
   "outputs": [
    {
     "data": {
      "text/plain": [
       "['latitude', 'longitude']"
      ]
     },
     "execution_count": 156,
     "metadata": {},
     "output_type": "execute_result"
    }
   ],
   "source": [
    "# %%\n",
    "\n",
    "float_features_visits = df_types_visits[df_types_visits[0] == 'float64'].index.to_list()\n",
    "float_features_visits"
   ]
  },
  {
   "cell_type": "code",
   "execution_count": null,
   "id": "25ed8161-2cbe-4d4c-81a0-1763fc5faff8",
   "metadata": {},
   "outputs": [
    {
     "data": {
      "text/plain": [
       "['timestamp']"
      ]
     },
     "execution_count": 157,
     "metadata": {},
     "output_type": "execute_result"
    }
   ],
   "source": [
    "# %%\n",
    "\n",
    "date_features_visits = df_types_visits[df_types_visits[0] == 'datetime64[ns]'].index.to_list()\n",
    "date_features_visits"
   ]
  },
  {
   "cell_type": "code",
   "execution_count": null,
   "id": "f0d6c1d1-a5e4-488d-b667-f9821556e6be",
   "metadata": {},
   "outputs": [
    {
     "data": {
      "text/plain": [
       "['business_day']"
      ]
     },
     "execution_count": 158,
     "metadata": {},
     "output_type": "execute_result"
    }
   ],
   "source": [
    "# %%\n",
    "\n",
    "bool_features_visits = df_types_visits[df_types_visits[0] == 'bool'].index.to_list()\n",
    "bool_features_visits"
   ]
  },
  {
   "cell_type": "code",
   "execution_count": null,
   "id": "ac68fb2d-d468-4949-9cb6-6d7b525e2f7e",
   "metadata": {},
   "outputs": [
    {
     "data": {
      "text/html": [
       "<div>\n",
       "<style scoped>\n",
       "    .dataframe tbody tr th:only-of-type {\n",
       "        vertical-align: middle;\n",
       "    }\n",
       "\n",
       "    .dataframe tbody tr th {\n",
       "        vertical-align: top;\n",
       "    }\n",
       "\n",
       "    .dataframe thead th {\n",
       "        text-align: right;\n",
       "    }\n",
       "</style>\n",
       "<table border=\"1\" class=\"dataframe\">\n",
       "  <thead>\n",
       "    <tr style=\"text-align: right;\">\n",
       "      <th></th>\n",
       "      <th>count</th>\n",
       "      <th>unique</th>\n",
       "      <th>top</th>\n",
       "      <th>freq</th>\n",
       "    </tr>\n",
       "  </thead>\n",
       "  <tbody>\n",
       "    <tr>\n",
       "      <th>point</th>\n",
       "      <td>367379</td>\n",
       "      <td>314776</td>\n",
       "      <td>4.7532264, -74.0988525</td>\n",
       "      <td>326</td>\n",
       "    </tr>\n",
       "    <tr>\n",
       "      <th>place</th>\n",
       "      <td>367379</td>\n",
       "      <td>20538</td>\n",
       "      <td>Autopista Norte, Tocancipá, Sabana Centro, RAP...</td>\n",
       "      <td>16438</td>\n",
       "    </tr>\n",
       "    <tr>\n",
       "      <th>date</th>\n",
       "      <td>367379</td>\n",
       "      <td>3408</td>\n",
       "      <td>2021-12-24</td>\n",
       "      <td>763</td>\n",
       "    </tr>\n",
       "  </tbody>\n",
       "</table>\n",
       "</div>"
      ],
      "text/plain": [
       "        count  unique                                                top  \\\n",
       "point  367379  314776                             4.7532264, -74.0988525   \n",
       "place  367379   20538  Autopista Norte, Tocancipá, Sabana Centro, RAP...   \n",
       "date   367379    3408                                         2021-12-24   \n",
       "\n",
       "        freq  \n",
       "point    326  \n",
       "place  16438  \n",
       "date     763  "
      ]
     },
     "execution_count": 159,
     "metadata": {},
     "output_type": "execute_result"
    }
   ],
   "source": [
    "# %%\n",
    "\n",
    "df_visits[object_features_visits].describe(include='all').T"
   ]
  },
  {
   "cell_type": "code",
   "execution_count": null,
   "id": "f2ee87ad-97bd-4a35-ae96-8a6179e6d48b",
   "metadata": {},
   "outputs": [
    {
     "data": {
      "text/html": [
       "<div>\n",
       "<style scoped>\n",
       "    .dataframe tbody tr th:only-of-type {\n",
       "        vertical-align: middle;\n",
       "    }\n",
       "\n",
       "    .dataframe tbody tr th {\n",
       "        vertical-align: top;\n",
       "    }\n",
       "\n",
       "    .dataframe thead th {\n",
       "        text-align: right;\n",
       "    }\n",
       "</style>\n",
       "<table border=\"1\" class=\"dataframe\">\n",
       "  <thead>\n",
       "    <tr style=\"text-align: right;\">\n",
       "      <th></th>\n",
       "      <th>count</th>\n",
       "      <th>unique</th>\n",
       "      <th>top</th>\n",
       "      <th>freq</th>\n",
       "    </tr>\n",
       "  </thead>\n",
       "  <tbody>\n",
       "    <tr>\n",
       "      <th>business_day</th>\n",
       "      <td>367379</td>\n",
       "      <td>1</td>\n",
       "      <td>False</td>\n",
       "      <td>367379</td>\n",
       "    </tr>\n",
       "  </tbody>\n",
       "</table>\n",
       "</div>"
      ],
      "text/plain": [
       "               count unique    top    freq\n",
       "business_day  367379      1  False  367379"
      ]
     },
     "execution_count": 160,
     "metadata": {},
     "output_type": "execute_result"
    }
   ],
   "source": [
    "# %%\n",
    "\n",
    "df_visits[bool_features_visits].describe(include='all').T"
   ]
  },
  {
   "cell_type": "code",
   "execution_count": null,
   "id": "15fabec9-33ce-409c-afe1-0d575bc6b391",
   "metadata": {},
   "outputs": [
    {
     "data": {
      "text/html": [
       "<div>\n",
       "<style scoped>\n",
       "    .dataframe tbody tr th:only-of-type {\n",
       "        vertical-align: middle;\n",
       "    }\n",
       "\n",
       "    .dataframe tbody tr th {\n",
       "        vertical-align: top;\n",
       "    }\n",
       "\n",
       "    .dataframe thead th {\n",
       "        text-align: right;\n",
       "    }\n",
       "</style>\n",
       "<table border=\"1\" class=\"dataframe\">\n",
       "  <thead>\n",
       "    <tr style=\"text-align: right;\">\n",
       "      <th></th>\n",
       "      <th>timestamp</th>\n",
       "      <th>point</th>\n",
       "      <th>place</th>\n",
       "      <th>date</th>\n",
       "      <th>latitude</th>\n",
       "      <th>longitude</th>\n",
       "      <th>business_day</th>\n",
       "    </tr>\n",
       "  </thead>\n",
       "  <tbody>\n",
       "    <tr>\n",
       "      <th>332010</th>\n",
       "      <td>2023-12-24 00:00:00</td>\n",
       "      <td>5.0200345, -74.4840981</td>\n",
       "      <td>Vía Honda - Villeta, Cune, Villeta, Gualivá, C...</td>\n",
       "      <td>2023-12-24</td>\n",
       "      <td>5.020035</td>\n",
       "      <td>-74.484098</td>\n",
       "      <td>False</td>\n",
       "    </tr>\n",
       "    <tr>\n",
       "      <th>332011</th>\n",
       "      <td>2023-12-24 00:02:00</td>\n",
       "      <td>5.0121546, -74.4787859</td>\n",
       "      <td>Carrera 12, Villeta, Gualivá, Cundinamarca, RA...</td>\n",
       "      <td>2023-12-24</td>\n",
       "      <td>5.012155</td>\n",
       "      <td>-74.478786</td>\n",
       "      <td>False</td>\n",
       "    </tr>\n",
       "    <tr>\n",
       "      <th>332012</th>\n",
       "      <td>2023-12-24 00:09:00</td>\n",
       "      <td>5.0473858, -74.4527103</td>\n",
       "      <td>Variante La Vega - Guaduas, Villeta, Gualivá, ...</td>\n",
       "      <td>2023-12-24</td>\n",
       "      <td>5.047386</td>\n",
       "      <td>-74.452710</td>\n",
       "      <td>False</td>\n",
       "    </tr>\n",
       "    <tr>\n",
       "      <th>332013</th>\n",
       "      <td>2023-12-24 00:13:00</td>\n",
       "      <td>5.0736164, -74.4452634</td>\n",
       "      <td>Transversal Medellin - Bogotá, Nimaima, Gualiv...</td>\n",
       "      <td>2023-12-24</td>\n",
       "      <td>5.073616</td>\n",
       "      <td>-74.445263</td>\n",
       "      <td>False</td>\n",
       "    </tr>\n",
       "    <tr>\n",
       "      <th>332014</th>\n",
       "      <td>2023-12-24 00:15:00</td>\n",
       "      <td>5.0689952, -74.4402888</td>\n",
       "      <td>Transversal Medellin - Bogotá, Nimaima, Gualiv...</td>\n",
       "      <td>2023-12-24</td>\n",
       "      <td>5.068995</td>\n",
       "      <td>-74.440289</td>\n",
       "      <td>False</td>\n",
       "    </tr>\n",
       "    <tr>\n",
       "      <th>...</th>\n",
       "      <td>...</td>\n",
       "      <td>...</td>\n",
       "      <td>...</td>\n",
       "      <td>...</td>\n",
       "      <td>...</td>\n",
       "      <td>...</td>\n",
       "      <td>...</td>\n",
       "    </tr>\n",
       "    <tr>\n",
       "      <th>332129</th>\n",
       "      <td>2023-12-24 16:29:00</td>\n",
       "      <td>4.6627675, -74.1331598</td>\n",
       "      <td>Avenida Carrera 86, Ciudad Hayuelos, UPZs Loca...</td>\n",
       "      <td>2023-12-24</td>\n",
       "      <td>4.662768</td>\n",
       "      <td>-74.133160</td>\n",
       "      <td>False</td>\n",
       "    </tr>\n",
       "    <tr>\n",
       "      <th>332130</th>\n",
       "      <td>2023-12-24 16:34:00</td>\n",
       "      <td>4.6463754, -74.1500033</td>\n",
       "      <td>Avenida Carrera 86, Nueva Castilla, UPZs Local...</td>\n",
       "      <td>2023-12-24</td>\n",
       "      <td>4.646375</td>\n",
       "      <td>-74.150003</td>\n",
       "      <td>False</td>\n",
       "    </tr>\n",
       "    <tr>\n",
       "      <th>332131</th>\n",
       "      <td>2023-12-24 16:35:00</td>\n",
       "      <td>4.6437028, -74.152991</td>\n",
       "      <td>Avenida Carrera 86, Nueva Castilla, UPZs de Bo...</td>\n",
       "      <td>2023-12-24</td>\n",
       "      <td>4.643703</td>\n",
       "      <td>-74.152991</td>\n",
       "      <td>False</td>\n",
       "    </tr>\n",
       "    <tr>\n",
       "      <th>332132</th>\n",
       "      <td>2023-12-24 16:44:00</td>\n",
       "      <td>4.6414896, -74.155469</td>\n",
       "      <td>Avenida Carrera 86, Tintalá, UPZs de Bogotá, L...</td>\n",
       "      <td>2023-12-24</td>\n",
       "      <td>4.641490</td>\n",
       "      <td>-74.155469</td>\n",
       "      <td>False</td>\n",
       "    </tr>\n",
       "    <tr>\n",
       "      <th>332133</th>\n",
       "      <td>2023-12-24 16:50:00</td>\n",
       "      <td>4.6412153, -74.1527545</td>\n",
       "      <td>Calle 6C, Jardines de Castilla, UPZs de Bogotá...</td>\n",
       "      <td>2023-12-24</td>\n",
       "      <td>4.641215</td>\n",
       "      <td>-74.152755</td>\n",
       "      <td>False</td>\n",
       "    </tr>\n",
       "  </tbody>\n",
       "</table>\n",
       "<p>124 rows × 7 columns</p>\n",
       "</div>"
      ],
      "text/plain": [
       "                 timestamp                   point  \\\n",
       "332010 2023-12-24 00:00:00  5.0200345, -74.4840981   \n",
       "332011 2023-12-24 00:02:00  5.0121546, -74.4787859   \n",
       "332012 2023-12-24 00:09:00  5.0473858, -74.4527103   \n",
       "332013 2023-12-24 00:13:00  5.0736164, -74.4452634   \n",
       "332014 2023-12-24 00:15:00  5.0689952, -74.4402888   \n",
       "...                    ...                     ...   \n",
       "332129 2023-12-24 16:29:00  4.6627675, -74.1331598   \n",
       "332130 2023-12-24 16:34:00  4.6463754, -74.1500033   \n",
       "332131 2023-12-24 16:35:00   4.6437028, -74.152991   \n",
       "332132 2023-12-24 16:44:00   4.6414896, -74.155469   \n",
       "332133 2023-12-24 16:50:00  4.6412153, -74.1527545   \n",
       "\n",
       "                                                    place        date  \\\n",
       "332010  Vía Honda - Villeta, Cune, Villeta, Gualivá, C...  2023-12-24   \n",
       "332011  Carrera 12, Villeta, Gualivá, Cundinamarca, RA...  2023-12-24   \n",
       "332012  Variante La Vega - Guaduas, Villeta, Gualivá, ...  2023-12-24   \n",
       "332013  Transversal Medellin - Bogotá, Nimaima, Gualiv...  2023-12-24   \n",
       "332014  Transversal Medellin - Bogotá, Nimaima, Gualiv...  2023-12-24   \n",
       "...                                                   ...         ...   \n",
       "332129  Avenida Carrera 86, Ciudad Hayuelos, UPZs Loca...  2023-12-24   \n",
       "332130  Avenida Carrera 86, Nueva Castilla, UPZs Local...  2023-12-24   \n",
       "332131  Avenida Carrera 86, Nueva Castilla, UPZs de Bo...  2023-12-24   \n",
       "332132  Avenida Carrera 86, Tintalá, UPZs de Bogotá, L...  2023-12-24   \n",
       "332133  Calle 6C, Jardines de Castilla, UPZs de Bogotá...  2023-12-24   \n",
       "\n",
       "        latitude  longitude  business_day  \n",
       "332010  5.020035 -74.484098         False  \n",
       "332011  5.012155 -74.478786         False  \n",
       "332012  5.047386 -74.452710         False  \n",
       "332013  5.073616 -74.445263         False  \n",
       "332014  5.068995 -74.440289         False  \n",
       "...          ...        ...           ...  \n",
       "332129  4.662768 -74.133160         False  \n",
       "332130  4.646375 -74.150003         False  \n",
       "332131  4.643703 -74.152991         False  \n",
       "332132  4.641490 -74.155469         False  \n",
       "332133  4.641215 -74.152755         False  \n",
       "\n",
       "[124 rows x 7 columns]"
      ]
     },
     "execution_count": 161,
     "metadata": {},
     "output_type": "execute_result"
    }
   ],
   "source": [
    "# %%\n",
    "\n",
    "df_visits[df_visits['date'] == date(2023, 12, 24)]"
   ]
  },
  {
   "cell_type": "code",
   "execution_count": null,
   "id": "c6d60454-90d7-4a4d-9890-b877b80b7222",
   "metadata": {},
   "outputs": [
    {
     "data": {
      "text/plain": [
       "place\n",
       "Transversal Medellin - Bogotá, La Vega, Gualivá, RAP (Especial) Central, 253610, Colombia                                                                                              8\n",
       "Transversal Medellin - Bogotá, San Francisco, Gualivá, RAP (Especial) Central, 253601, Colombia                                                                                        3\n",
       "Avenida Carrera 45, Nueva Zelandia, UPZs de Bogotá, Localidad Suba, Bogotá, Bogotá Distrito Capital - Municipio, Bogotá, Distrito Capital, RAP (Especial) Central, 111166, Colombia    3\n",
       "Autopista Norte, Yerbabuena, Hato Grande, Chía, Sopó, Sabana Centro, RAP (Especial) Central, 250008, Colombia                                                                          3\n",
       "Calle 151, Tibabuyes, UPZs de Bogotá, Localidad Suba, Bogotá, Bogotá Distrito Capital - Municipio, Bogotá, Distrito Capital, RAP (Especial) Central, 111161, Colombia                  3\n",
       "                                                                                                                                                                                      ..\n",
       "Vía Cota Chía, La Moya, Cota, Sabana Occidente, RAP (Especial) Central, 250017, Colombia                                                                                               1\n",
       "Variante Suba - Chía, Pueblo Viejo, Cota, Sabana Occidente, Cundinamarca, RAP (Especial) Central, 250017, Colombia                                                                     1\n",
       "Variante Siberia - Cota - Chía, Pueblo Viejo, Cota, Sabana Occidente, RAP (Especial) Central, 250017, Colombia                                                                         1\n",
       "Carrera 5, El Abra, Cota, Sabana Occidente, RAP (Especial) Central, 250017, Colombia                                                                                                   1\n",
       "Calle 6C, Jardines de Castilla, UPZs de Bogotá, Localidad Kennedy, Bogotá, Bogotá Distrito Capital - Municipio, Bogotá, Distrito Capital, RAP (Especial) Central, 110821, Colombia     1\n",
       "Name: count, Length: 97, dtype: int64"
      ]
     },
     "execution_count": 162,
     "metadata": {},
     "output_type": "execute_result"
    }
   ],
   "source": [
    "# %%\n",
    "\n",
    "df_visits[df_visits['date'] == date(2023, 12, 24)].place.value_counts()"
   ]
  },
  {
   "cell_type": "markdown",
   "id": "619f1c07-5cd2-4a32-88a7-5c5242c6e78e",
   "metadata": {},
   "source": [
    "# %% [markdown]\n",
    "\n",
    " ## Save data"
   ]
  },
  {
   "cell_type": "code",
   "execution_count": null,
   "id": "8c0082b1-a865-4a02-b33f-aa0a04a2feb7",
   "metadata": {},
   "outputs": [],
   "source": [
    "df_visits.to_csv('../backend/data/visitas_business_days.csv', index=False)"
   ]
  }
 ],
 "metadata": {
  "language_info": {
   "codemirror_mode": {
    "name": "ipython",
    "version": 3
   },
   "file_extension": ".py",
   "mimetype": "text/x-python",
   "name": "python",
   "nbconvert_exporter": "python",
   "pygments_lexer": "ipython3",
   "version": 3
  }
 },
 "nbformat": 4,
 "nbformat_minor": 2
}
